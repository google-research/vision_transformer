{
  "nbformat": 4,
  "nbformat_minor": 0,
  "metadata": {
    "colab": {
      "name": "Vision Transformer AugReg",
      "provenance": [],
      "collapsed_sections": [],
      "toc_visible": true
    },
    "kernelspec": {
      "name": "python3",
      "display_name": "Python 3"
    },
    "language_info": {
      "name": "python"
    },
    "accelerator": "GPU",
    "widgets": {
      "application/vnd.jupyter.widget-state+json": {
        "91a51f837eaf4b83a2fb409890a9542c": {
          "model_module": "@jupyter-widgets/controls",
          "model_name": "HBoxModel",
          "state": {
            "_view_name": "HBoxView",
            "_dom_classes": [],
            "_model_name": "HBoxModel",
            "_view_module": "@jupyter-widgets/controls",
            "_model_module_version": "1.5.0",
            "_view_count": null,
            "_view_module_version": "1.5.0",
            "box_style": "",
            "layout": "IPY_MODEL_88b09c3a014a47e9a60ff3e401896446",
            "_model_module": "@jupyter-widgets/controls",
            "children": [
              "IPY_MODEL_bbd29b70447840e88bd7441820ee0878",
              "IPY_MODEL_cc51bccaedc84f059726260fe1375ef3"
            ]
          }
        },
        "88b09c3a014a47e9a60ff3e401896446": {
          "model_module": "@jupyter-widgets/base",
          "model_name": "LayoutModel",
          "state": {
            "_view_name": "LayoutView",
            "grid_template_rows": null,
            "right": null,
            "justify_content": null,
            "_view_module": "@jupyter-widgets/base",
            "overflow": null,
            "_model_module_version": "1.2.0",
            "_view_count": null,
            "flex_flow": null,
            "width": null,
            "min_width": null,
            "border": null,
            "align_items": null,
            "bottom": null,
            "_model_module": "@jupyter-widgets/base",
            "top": null,
            "grid_column": null,
            "overflow_y": null,
            "overflow_x": null,
            "grid_auto_flow": null,
            "grid_area": null,
            "grid_template_columns": null,
            "flex": null,
            "_model_name": "LayoutModel",
            "justify_items": null,
            "grid_row": null,
            "max_height": null,
            "align_content": null,
            "visibility": null,
            "align_self": null,
            "height": null,
            "min_height": null,
            "padding": null,
            "grid_auto_rows": null,
            "grid_gap": null,
            "max_width": null,
            "order": null,
            "_view_module_version": "1.2.0",
            "grid_template_areas": null,
            "object_position": null,
            "object_fit": null,
            "grid_auto_columns": null,
            "margin": null,
            "display": null,
            "left": null
          }
        },
        "bbd29b70447840e88bd7441820ee0878": {
          "model_module": "@jupyter-widgets/controls",
          "model_name": "FloatProgressModel",
          "state": {
            "_view_name": "ProgressView",
            "style": "IPY_MODEL_5e0bc5d06afd40d0867638af5acc6bf2",
            "_dom_classes": [],
            "description": "Dl Completed...: 100%",
            "_model_name": "FloatProgressModel",
            "bar_style": "success",
            "max": 1,
            "_view_module": "@jupyter-widgets/controls",
            "_model_module_version": "1.5.0",
            "value": 1,
            "_view_count": null,
            "_view_module_version": "1.5.0",
            "orientation": "horizontal",
            "min": 0,
            "description_tooltip": null,
            "_model_module": "@jupyter-widgets/controls",
            "layout": "IPY_MODEL_753a32875d96480b8328f175d7642529"
          }
        },
        "cc51bccaedc84f059726260fe1375ef3": {
          "model_module": "@jupyter-widgets/controls",
          "model_name": "HTMLModel",
          "state": {
            "_view_name": "HTMLView",
            "style": "IPY_MODEL_176268a696674e2e96d9baefa8642b03",
            "_dom_classes": [],
            "description": "",
            "_model_name": "HTMLModel",
            "placeholder": "​",
            "_view_module": "@jupyter-widgets/controls",
            "_model_module_version": "1.5.0",
            "value": " 2/2 [00:33&lt;00:00, 16.98s/ url]",
            "_view_count": null,
            "_view_module_version": "1.5.0",
            "description_tooltip": null,
            "_model_module": "@jupyter-widgets/controls",
            "layout": "IPY_MODEL_24f2c07e520f4d9da8fa9371d1522d03"
          }
        },
        "5e0bc5d06afd40d0867638af5acc6bf2": {
          "model_module": "@jupyter-widgets/controls",
          "model_name": "ProgressStyleModel",
          "state": {
            "_view_name": "StyleView",
            "_model_name": "ProgressStyleModel",
            "description_width": "initial",
            "_view_module": "@jupyter-widgets/base",
            "_model_module_version": "1.5.0",
            "_view_count": null,
            "_view_module_version": "1.2.0",
            "bar_color": null,
            "_model_module": "@jupyter-widgets/controls"
          }
        },
        "753a32875d96480b8328f175d7642529": {
          "model_module": "@jupyter-widgets/base",
          "model_name": "LayoutModel",
          "state": {
            "_view_name": "LayoutView",
            "grid_template_rows": null,
            "right": null,
            "justify_content": null,
            "_view_module": "@jupyter-widgets/base",
            "overflow": null,
            "_model_module_version": "1.2.0",
            "_view_count": null,
            "flex_flow": null,
            "width": null,
            "min_width": null,
            "border": null,
            "align_items": null,
            "bottom": null,
            "_model_module": "@jupyter-widgets/base",
            "top": null,
            "grid_column": null,
            "overflow_y": null,
            "overflow_x": null,
            "grid_auto_flow": null,
            "grid_area": null,
            "grid_template_columns": null,
            "flex": null,
            "_model_name": "LayoutModel",
            "justify_items": null,
            "grid_row": null,
            "max_height": null,
            "align_content": null,
            "visibility": null,
            "align_self": null,
            "height": null,
            "min_height": null,
            "padding": null,
            "grid_auto_rows": null,
            "grid_gap": null,
            "max_width": null,
            "order": null,
            "_view_module_version": "1.2.0",
            "grid_template_areas": null,
            "object_position": null,
            "object_fit": null,
            "grid_auto_columns": null,
            "margin": null,
            "display": null,
            "left": null
          }
        },
        "176268a696674e2e96d9baefa8642b03": {
          "model_module": "@jupyter-widgets/controls",
          "model_name": "DescriptionStyleModel",
          "state": {
            "_view_name": "StyleView",
            "_model_name": "DescriptionStyleModel",
            "description_width": "",
            "_view_module": "@jupyter-widgets/base",
            "_model_module_version": "1.5.0",
            "_view_count": null,
            "_view_module_version": "1.2.0",
            "_model_module": "@jupyter-widgets/controls"
          }
        },
        "24f2c07e520f4d9da8fa9371d1522d03": {
          "model_module": "@jupyter-widgets/base",
          "model_name": "LayoutModel",
          "state": {
            "_view_name": "LayoutView",
            "grid_template_rows": null,
            "right": null,
            "justify_content": null,
            "_view_module": "@jupyter-widgets/base",
            "overflow": null,
            "_model_module_version": "1.2.0",
            "_view_count": null,
            "flex_flow": null,
            "width": null,
            "min_width": null,
            "border": null,
            "align_items": null,
            "bottom": null,
            "_model_module": "@jupyter-widgets/base",
            "top": null,
            "grid_column": null,
            "overflow_y": null,
            "overflow_x": null,
            "grid_auto_flow": null,
            "grid_area": null,
            "grid_template_columns": null,
            "flex": null,
            "_model_name": "LayoutModel",
            "justify_items": null,
            "grid_row": null,
            "max_height": null,
            "align_content": null,
            "visibility": null,
            "align_self": null,
            "height": null,
            "min_height": null,
            "padding": null,
            "grid_auto_rows": null,
            "grid_gap": null,
            "max_width": null,
            "order": null,
            "_view_module_version": "1.2.0",
            "grid_template_areas": null,
            "object_position": null,
            "object_fit": null,
            "grid_auto_columns": null,
            "margin": null,
            "display": null,
            "left": null
          }
        },
        "f9cc72ce2a5a4f97a19435fa8713bccd": {
          "model_module": "@jupyter-widgets/controls",
          "model_name": "HBoxModel",
          "state": {
            "_view_name": "HBoxView",
            "_dom_classes": [],
            "_model_name": "HBoxModel",
            "_view_module": "@jupyter-widgets/controls",
            "_model_module_version": "1.5.0",
            "_view_count": null,
            "_view_module_version": "1.5.0",
            "box_style": "",
            "layout": "IPY_MODEL_49ce0e8ce7e04eb185f627486ad403de",
            "_model_module": "@jupyter-widgets/controls",
            "children": [
              "IPY_MODEL_19a94ccca2024890b9ac92bee3335032",
              "IPY_MODEL_e1d7fc442cc7495fb15fb5ce6026daae"
            ]
          }
        },
        "49ce0e8ce7e04eb185f627486ad403de": {
          "model_module": "@jupyter-widgets/base",
          "model_name": "LayoutModel",
          "state": {
            "_view_name": "LayoutView",
            "grid_template_rows": null,
            "right": null,
            "justify_content": null,
            "_view_module": "@jupyter-widgets/base",
            "overflow": null,
            "_model_module_version": "1.2.0",
            "_view_count": null,
            "flex_flow": null,
            "width": null,
            "min_width": null,
            "border": null,
            "align_items": null,
            "bottom": null,
            "_model_module": "@jupyter-widgets/base",
            "top": null,
            "grid_column": null,
            "overflow_y": null,
            "overflow_x": null,
            "grid_auto_flow": null,
            "grid_area": null,
            "grid_template_columns": null,
            "flex": null,
            "_model_name": "LayoutModel",
            "justify_items": null,
            "grid_row": null,
            "max_height": null,
            "align_content": null,
            "visibility": null,
            "align_self": null,
            "height": null,
            "min_height": null,
            "padding": null,
            "grid_auto_rows": null,
            "grid_gap": null,
            "max_width": null,
            "order": null,
            "_view_module_version": "1.2.0",
            "grid_template_areas": null,
            "object_position": null,
            "object_fit": null,
            "grid_auto_columns": null,
            "margin": null,
            "display": null,
            "left": null
          }
        },
        "19a94ccca2024890b9ac92bee3335032": {
          "model_module": "@jupyter-widgets/controls",
          "model_name": "FloatProgressModel",
          "state": {
            "_view_name": "ProgressView",
            "style": "IPY_MODEL_71af18591033470c9b5d31dc178918e8",
            "_dom_classes": [],
            "description": "Dl Size...: 100%",
            "_model_name": "FloatProgressModel",
            "bar_style": "success",
            "max": 1,
            "_view_module": "@jupyter-widgets/controls",
            "_model_module_version": "1.5.0",
            "value": 1,
            "_view_count": null,
            "_view_module_version": "1.5.0",
            "orientation": "horizontal",
            "min": 0,
            "description_tooltip": null,
            "_model_module": "@jupyter-widgets/controls",
            "layout": "IPY_MODEL_5517b21fa49445b8a44681d5947d6bd2"
          }
        },
        "e1d7fc442cc7495fb15fb5ce6026daae": {
          "model_module": "@jupyter-widgets/controls",
          "model_name": "HTMLModel",
          "state": {
            "_view_name": "HTMLView",
            "style": "IPY_MODEL_7b29f98b12974f85b53d90796b3e9fb2",
            "_dom_classes": [],
            "description": "",
            "_model_name": "HTMLModel",
            "placeholder": "​",
            "_view_module": "@jupyter-widgets/controls",
            "_model_module_version": "1.5.0",
            "value": " 773/773 [00:33&lt;00:00, 22.79 MiB/s]",
            "_view_count": null,
            "_view_module_version": "1.5.0",
            "description_tooltip": null,
            "_model_module": "@jupyter-widgets/controls",
            "layout": "IPY_MODEL_a08a2ce1c4d94c45b0b66299c0413209"
          }
        },
        "71af18591033470c9b5d31dc178918e8": {
          "model_module": "@jupyter-widgets/controls",
          "model_name": "ProgressStyleModel",
          "state": {
            "_view_name": "StyleView",
            "_model_name": "ProgressStyleModel",
            "description_width": "initial",
            "_view_module": "@jupyter-widgets/base",
            "_model_module_version": "1.5.0",
            "_view_count": null,
            "_view_module_version": "1.2.0",
            "bar_color": null,
            "_model_module": "@jupyter-widgets/controls"
          }
        },
        "5517b21fa49445b8a44681d5947d6bd2": {
          "model_module": "@jupyter-widgets/base",
          "model_name": "LayoutModel",
          "state": {
            "_view_name": "LayoutView",
            "grid_template_rows": null,
            "right": null,
            "justify_content": null,
            "_view_module": "@jupyter-widgets/base",
            "overflow": null,
            "_model_module_version": "1.2.0",
            "_view_count": null,
            "flex_flow": null,
            "width": null,
            "min_width": null,
            "border": null,
            "align_items": null,
            "bottom": null,
            "_model_module": "@jupyter-widgets/base",
            "top": null,
            "grid_column": null,
            "overflow_y": null,
            "overflow_x": null,
            "grid_auto_flow": null,
            "grid_area": null,
            "grid_template_columns": null,
            "flex": null,
            "_model_name": "LayoutModel",
            "justify_items": null,
            "grid_row": null,
            "max_height": null,
            "align_content": null,
            "visibility": null,
            "align_self": null,
            "height": null,
            "min_height": null,
            "padding": null,
            "grid_auto_rows": null,
            "grid_gap": null,
            "max_width": null,
            "order": null,
            "_view_module_version": "1.2.0",
            "grid_template_areas": null,
            "object_position": null,
            "object_fit": null,
            "grid_auto_columns": null,
            "margin": null,
            "display": null,
            "left": null
          }
        },
        "7b29f98b12974f85b53d90796b3e9fb2": {
          "model_module": "@jupyter-widgets/controls",
          "model_name": "DescriptionStyleModel",
          "state": {
            "_view_name": "StyleView",
            "_model_name": "DescriptionStyleModel",
            "description_width": "",
            "_view_module": "@jupyter-widgets/base",
            "_model_module_version": "1.5.0",
            "_view_count": null,
            "_view_module_version": "1.2.0",
            "_model_module": "@jupyter-widgets/controls"
          }
        },
        "a08a2ce1c4d94c45b0b66299c0413209": {
          "model_module": "@jupyter-widgets/base",
          "model_name": "LayoutModel",
          "state": {
            "_view_name": "LayoutView",
            "grid_template_rows": null,
            "right": null,
            "justify_content": null,
            "_view_module": "@jupyter-widgets/base",
            "overflow": null,
            "_model_module_version": "1.2.0",
            "_view_count": null,
            "flex_flow": null,
            "width": null,
            "min_width": null,
            "border": null,
            "align_items": null,
            "bottom": null,
            "_model_module": "@jupyter-widgets/base",
            "top": null,
            "grid_column": null,
            "overflow_y": null,
            "overflow_x": null,
            "grid_auto_flow": null,
            "grid_area": null,
            "grid_template_columns": null,
            "flex": null,
            "_model_name": "LayoutModel",
            "justify_items": null,
            "grid_row": null,
            "max_height": null,
            "align_content": null,
            "visibility": null,
            "align_self": null,
            "height": null,
            "min_height": null,
            "padding": null,
            "grid_auto_rows": null,
            "grid_gap": null,
            "max_width": null,
            "order": null,
            "_view_module_version": "1.2.0",
            "grid_template_areas": null,
            "object_position": null,
            "object_fit": null,
            "grid_auto_columns": null,
            "margin": null,
            "display": null,
            "left": null
          }
        },
        "45f4575957534a7ea1f6dd39887776bb": {
          "model_module": "@jupyter-widgets/controls",
          "model_name": "HBoxModel",
          "state": {
            "_view_name": "HBoxView",
            "_dom_classes": [],
            "_model_name": "HBoxModel",
            "_view_module": "@jupyter-widgets/controls",
            "_model_module_version": "1.5.0",
            "_view_count": null,
            "_view_module_version": "1.5.0",
            "box_style": "",
            "layout": "IPY_MODEL_c69e0b7b77414633969829d5950aa48c",
            "_model_module": "@jupyter-widgets/controls",
            "children": [
              "IPY_MODEL_55ce8599cf634fb59d048c2e502e8165",
              "IPY_MODEL_520e21ac1725423dade7f1cf0f2f0614"
            ]
          }
        },
        "c69e0b7b77414633969829d5950aa48c": {
          "model_module": "@jupyter-widgets/base",
          "model_name": "LayoutModel",
          "state": {
            "_view_name": "LayoutView",
            "grid_template_rows": null,
            "right": null,
            "justify_content": null,
            "_view_module": "@jupyter-widgets/base",
            "overflow": null,
            "_model_module_version": "1.2.0",
            "_view_count": null,
            "flex_flow": null,
            "width": null,
            "min_width": null,
            "border": null,
            "align_items": null,
            "bottom": null,
            "_model_module": "@jupyter-widgets/base",
            "top": null,
            "grid_column": null,
            "overflow_y": null,
            "overflow_x": null,
            "grid_auto_flow": null,
            "grid_area": null,
            "grid_template_columns": null,
            "flex": null,
            "_model_name": "LayoutModel",
            "justify_items": null,
            "grid_row": null,
            "max_height": null,
            "align_content": null,
            "visibility": null,
            "align_self": null,
            "height": null,
            "min_height": null,
            "padding": null,
            "grid_auto_rows": null,
            "grid_gap": null,
            "max_width": null,
            "order": null,
            "_view_module_version": "1.2.0",
            "grid_template_areas": null,
            "object_position": null,
            "object_fit": null,
            "grid_auto_columns": null,
            "margin": null,
            "display": null,
            "left": null
          }
        },
        "55ce8599cf634fb59d048c2e502e8165": {
          "model_module": "@jupyter-widgets/controls",
          "model_name": "FloatProgressModel",
          "state": {
            "_view_name": "ProgressView",
            "style": "IPY_MODEL_e478e28733b9426b9a1a98c5768e97a8",
            "_dom_classes": [],
            "description": "Extraction completed...: 100%",
            "_model_name": "FloatProgressModel",
            "bar_style": "success",
            "max": 1,
            "_view_module": "@jupyter-widgets/controls",
            "_model_module_version": "1.5.0",
            "value": 1,
            "_view_count": null,
            "_view_module_version": "1.5.0",
            "orientation": "horizontal",
            "min": 0,
            "description_tooltip": null,
            "_model_module": "@jupyter-widgets/controls",
            "layout": "IPY_MODEL_4e8dcfa14a544a35836f5fa3c1bd732e"
          }
        },
        "520e21ac1725423dade7f1cf0f2f0614": {
          "model_module": "@jupyter-widgets/controls",
          "model_name": "HTMLModel",
          "state": {
            "_view_name": "HTMLView",
            "style": "IPY_MODEL_b9737918892a401b9f92b0949e0ae36e",
            "_dom_classes": [],
            "description": "",
            "_model_name": "HTMLModel",
            "placeholder": "​",
            "_view_module": "@jupyter-widgets/controls",
            "_model_module_version": "1.5.0",
            "value": " 2/2 [00:33&lt;00:00, 16.93s/ file]",
            "_view_count": null,
            "_view_module_version": "1.5.0",
            "description_tooltip": null,
            "_model_module": "@jupyter-widgets/controls",
            "layout": "IPY_MODEL_43fcca0ccf7449c4bba242111a01c47e"
          }
        },
        "e478e28733b9426b9a1a98c5768e97a8": {
          "model_module": "@jupyter-widgets/controls",
          "model_name": "ProgressStyleModel",
          "state": {
            "_view_name": "StyleView",
            "_model_name": "ProgressStyleModel",
            "description_width": "initial",
            "_view_module": "@jupyter-widgets/base",
            "_model_module_version": "1.5.0",
            "_view_count": null,
            "_view_module_version": "1.2.0",
            "bar_color": null,
            "_model_module": "@jupyter-widgets/controls"
          }
        },
        "4e8dcfa14a544a35836f5fa3c1bd732e": {
          "model_module": "@jupyter-widgets/base",
          "model_name": "LayoutModel",
          "state": {
            "_view_name": "LayoutView",
            "grid_template_rows": null,
            "right": null,
            "justify_content": null,
            "_view_module": "@jupyter-widgets/base",
            "overflow": null,
            "_model_module_version": "1.2.0",
            "_view_count": null,
            "flex_flow": null,
            "width": null,
            "min_width": null,
            "border": null,
            "align_items": null,
            "bottom": null,
            "_model_module": "@jupyter-widgets/base",
            "top": null,
            "grid_column": null,
            "overflow_y": null,
            "overflow_x": null,
            "grid_auto_flow": null,
            "grid_area": null,
            "grid_template_columns": null,
            "flex": null,
            "_model_name": "LayoutModel",
            "justify_items": null,
            "grid_row": null,
            "max_height": null,
            "align_content": null,
            "visibility": null,
            "align_self": null,
            "height": null,
            "min_height": null,
            "padding": null,
            "grid_auto_rows": null,
            "grid_gap": null,
            "max_width": null,
            "order": null,
            "_view_module_version": "1.2.0",
            "grid_template_areas": null,
            "object_position": null,
            "object_fit": null,
            "grid_auto_columns": null,
            "margin": null,
            "display": null,
            "left": null
          }
        },
        "b9737918892a401b9f92b0949e0ae36e": {
          "model_module": "@jupyter-widgets/controls",
          "model_name": "DescriptionStyleModel",
          "state": {
            "_view_name": "StyleView",
            "_model_name": "DescriptionStyleModel",
            "description_width": "",
            "_view_module": "@jupyter-widgets/base",
            "_model_module_version": "1.5.0",
            "_view_count": null,
            "_view_module_version": "1.2.0",
            "_model_module": "@jupyter-widgets/controls"
          }
        },
        "43fcca0ccf7449c4bba242111a01c47e": {
          "model_module": "@jupyter-widgets/base",
          "model_name": "LayoutModel",
          "state": {
            "_view_name": "LayoutView",
            "grid_template_rows": null,
            "right": null,
            "justify_content": null,
            "_view_module": "@jupyter-widgets/base",
            "overflow": null,
            "_model_module_version": "1.2.0",
            "_view_count": null,
            "flex_flow": null,
            "width": null,
            "min_width": null,
            "border": null,
            "align_items": null,
            "bottom": null,
            "_model_module": "@jupyter-widgets/base",
            "top": null,
            "grid_column": null,
            "overflow_y": null,
            "overflow_x": null,
            "grid_auto_flow": null,
            "grid_area": null,
            "grid_template_columns": null,
            "flex": null,
            "_model_name": "LayoutModel",
            "justify_items": null,
            "grid_row": null,
            "max_height": null,
            "align_content": null,
            "visibility": null,
            "align_self": null,
            "height": null,
            "min_height": null,
            "padding": null,
            "grid_auto_rows": null,
            "grid_gap": null,
            "max_width": null,
            "order": null,
            "_view_module_version": "1.2.0",
            "grid_template_areas": null,
            "object_position": null,
            "object_fit": null,
            "grid_auto_columns": null,
            "margin": null,
            "display": null,
            "left": null
          }
        },
        "e6ca97447bdc4370865fd981f4669425": {
          "model_module": "@jupyter-widgets/controls",
          "model_name": "HBoxModel",
          "state": {
            "_view_name": "HBoxView",
            "_dom_classes": [],
            "_model_name": "HBoxModel",
            "_view_module": "@jupyter-widgets/controls",
            "_model_module_version": "1.5.0",
            "_view_count": null,
            "_view_module_version": "1.5.0",
            "box_style": "",
            "layout": "IPY_MODEL_32c400ebd5e9417b98188aca0918c944",
            "_model_module": "@jupyter-widgets/controls",
            "children": [
              "IPY_MODEL_a27c8246f3cf41b2b06332ba972c8b24",
              "IPY_MODEL_e2535c58436f49b392a2c2fddf053666"
            ]
          }
        },
        "32c400ebd5e9417b98188aca0918c944": {
          "model_module": "@jupyter-widgets/base",
          "model_name": "LayoutModel",
          "state": {
            "_view_name": "LayoutView",
            "grid_template_rows": null,
            "right": null,
            "justify_content": null,
            "_view_module": "@jupyter-widgets/base",
            "overflow": null,
            "_model_module_version": "1.2.0",
            "_view_count": null,
            "flex_flow": null,
            "width": null,
            "min_width": null,
            "border": null,
            "align_items": null,
            "bottom": null,
            "_model_module": "@jupyter-widgets/base",
            "top": null,
            "grid_column": null,
            "overflow_y": null,
            "overflow_x": null,
            "grid_auto_flow": null,
            "grid_area": null,
            "grid_template_columns": null,
            "flex": null,
            "_model_name": "LayoutModel",
            "justify_items": null,
            "grid_row": null,
            "max_height": null,
            "align_content": null,
            "visibility": null,
            "align_self": null,
            "height": null,
            "min_height": null,
            "padding": null,
            "grid_auto_rows": null,
            "grid_gap": null,
            "max_width": null,
            "order": null,
            "_view_module_version": "1.2.0",
            "grid_template_areas": null,
            "object_position": null,
            "object_fit": null,
            "grid_auto_columns": null,
            "margin": null,
            "display": null,
            "left": null
          }
        },
        "a27c8246f3cf41b2b06332ba972c8b24": {
          "model_module": "@jupyter-widgets/controls",
          "model_name": "FloatProgressModel",
          "state": {
            "_view_name": "ProgressView",
            "style": "IPY_MODEL_6024141688084627a79aacf67c69f225",
            "_dom_classes": [],
            "description": "",
            "_model_name": "FloatProgressModel",
            "bar_style": "info",
            "max": 1,
            "_view_module": "@jupyter-widgets/controls",
            "_model_module_version": "1.5.0",
            "value": 1,
            "_view_count": null,
            "_view_module_version": "1.5.0",
            "orientation": "horizontal",
            "min": 0,
            "description_tooltip": null,
            "_model_module": "@jupyter-widgets/controls",
            "layout": "IPY_MODEL_6a4f606372a74bb6b94a822b78e5e859"
          }
        },
        "e2535c58436f49b392a2c2fddf053666": {
          "model_module": "@jupyter-widgets/controls",
          "model_name": "HTMLModel",
          "state": {
            "_view_name": "HTMLView",
            "style": "IPY_MODEL_676ff262ea0e4a8ead1abc4223335d12",
            "_dom_classes": [],
            "description": "",
            "_model_name": "HTMLModel",
            "placeholder": "​",
            "_view_module": "@jupyter-widgets/controls",
            "_model_module_version": "1.5.0",
            "value": " 3680/0 [00:02&lt;00:00, 1323.23 examples/s]",
            "_view_count": null,
            "_view_module_version": "1.5.0",
            "description_tooltip": null,
            "_model_module": "@jupyter-widgets/controls",
            "layout": "IPY_MODEL_3a8e5a0fb58048a091b0b8287bcc4f64"
          }
        },
        "6024141688084627a79aacf67c69f225": {
          "model_module": "@jupyter-widgets/controls",
          "model_name": "ProgressStyleModel",
          "state": {
            "_view_name": "StyleView",
            "_model_name": "ProgressStyleModel",
            "description_width": "initial",
            "_view_module": "@jupyter-widgets/base",
            "_model_module_version": "1.5.0",
            "_view_count": null,
            "_view_module_version": "1.2.0",
            "bar_color": null,
            "_model_module": "@jupyter-widgets/controls"
          }
        },
        "6a4f606372a74bb6b94a822b78e5e859": {
          "model_module": "@jupyter-widgets/base",
          "model_name": "LayoutModel",
          "state": {
            "_view_name": "LayoutView",
            "grid_template_rows": null,
            "right": null,
            "justify_content": null,
            "_view_module": "@jupyter-widgets/base",
            "overflow": null,
            "_model_module_version": "1.2.0",
            "_view_count": null,
            "flex_flow": null,
            "width": null,
            "min_width": null,
            "border": null,
            "align_items": null,
            "bottom": null,
            "_model_module": "@jupyter-widgets/base",
            "top": null,
            "grid_column": null,
            "overflow_y": null,
            "overflow_x": null,
            "grid_auto_flow": null,
            "grid_area": null,
            "grid_template_columns": null,
            "flex": null,
            "_model_name": "LayoutModel",
            "justify_items": null,
            "grid_row": null,
            "max_height": null,
            "align_content": null,
            "visibility": null,
            "align_self": null,
            "height": null,
            "min_height": null,
            "padding": null,
            "grid_auto_rows": null,
            "grid_gap": null,
            "max_width": null,
            "order": null,
            "_view_module_version": "1.2.0",
            "grid_template_areas": null,
            "object_position": null,
            "object_fit": null,
            "grid_auto_columns": null,
            "margin": null,
            "display": null,
            "left": null
          }
        },
        "676ff262ea0e4a8ead1abc4223335d12": {
          "model_module": "@jupyter-widgets/controls",
          "model_name": "DescriptionStyleModel",
          "state": {
            "_view_name": "StyleView",
            "_model_name": "DescriptionStyleModel",
            "description_width": "",
            "_view_module": "@jupyter-widgets/base",
            "_model_module_version": "1.5.0",
            "_view_count": null,
            "_view_module_version": "1.2.0",
            "_model_module": "@jupyter-widgets/controls"
          }
        },
        "3a8e5a0fb58048a091b0b8287bcc4f64": {
          "model_module": "@jupyter-widgets/base",
          "model_name": "LayoutModel",
          "state": {
            "_view_name": "LayoutView",
            "grid_template_rows": null,
            "right": null,
            "justify_content": null,
            "_view_module": "@jupyter-widgets/base",
            "overflow": null,
            "_model_module_version": "1.2.0",
            "_view_count": null,
            "flex_flow": null,
            "width": null,
            "min_width": null,
            "border": null,
            "align_items": null,
            "bottom": null,
            "_model_module": "@jupyter-widgets/base",
            "top": null,
            "grid_column": null,
            "overflow_y": null,
            "overflow_x": null,
            "grid_auto_flow": null,
            "grid_area": null,
            "grid_template_columns": null,
            "flex": null,
            "_model_name": "LayoutModel",
            "justify_items": null,
            "grid_row": null,
            "max_height": null,
            "align_content": null,
            "visibility": null,
            "align_self": null,
            "height": null,
            "min_height": null,
            "padding": null,
            "grid_auto_rows": null,
            "grid_gap": null,
            "max_width": null,
            "order": null,
            "_view_module_version": "1.2.0",
            "grid_template_areas": null,
            "object_position": null,
            "object_fit": null,
            "grid_auto_columns": null,
            "margin": null,
            "display": null,
            "left": null
          }
        },
        "4130a0574b464827a8dda14732572244": {
          "model_module": "@jupyter-widgets/controls",
          "model_name": "HBoxModel",
          "state": {
            "_view_name": "HBoxView",
            "_dom_classes": [],
            "_model_name": "HBoxModel",
            "_view_module": "@jupyter-widgets/controls",
            "_model_module_version": "1.5.0",
            "_view_count": null,
            "_view_module_version": "1.5.0",
            "box_style": "",
            "layout": "IPY_MODEL_09f1d4b1516741a68381429dccecca9c",
            "_model_module": "@jupyter-widgets/controls",
            "children": [
              "IPY_MODEL_c2a83e1d44a24659b25c32660074d98c",
              "IPY_MODEL_8d8267dfab9644b7bc998cef99ced21b"
            ]
          }
        },
        "09f1d4b1516741a68381429dccecca9c": {
          "model_module": "@jupyter-widgets/base",
          "model_name": "LayoutModel",
          "state": {
            "_view_name": "LayoutView",
            "grid_template_rows": null,
            "right": null,
            "justify_content": null,
            "_view_module": "@jupyter-widgets/base",
            "overflow": null,
            "_model_module_version": "1.2.0",
            "_view_count": null,
            "flex_flow": null,
            "width": null,
            "min_width": null,
            "border": null,
            "align_items": null,
            "bottom": null,
            "_model_module": "@jupyter-widgets/base",
            "top": null,
            "grid_column": null,
            "overflow_y": null,
            "overflow_x": null,
            "grid_auto_flow": null,
            "grid_area": null,
            "grid_template_columns": null,
            "flex": null,
            "_model_name": "LayoutModel",
            "justify_items": null,
            "grid_row": null,
            "max_height": null,
            "align_content": null,
            "visibility": null,
            "align_self": null,
            "height": null,
            "min_height": null,
            "padding": null,
            "grid_auto_rows": null,
            "grid_gap": null,
            "max_width": null,
            "order": null,
            "_view_module_version": "1.2.0",
            "grid_template_areas": null,
            "object_position": null,
            "object_fit": null,
            "grid_auto_columns": null,
            "margin": null,
            "display": null,
            "left": null
          }
        },
        "c2a83e1d44a24659b25c32660074d98c": {
          "model_module": "@jupyter-widgets/controls",
          "model_name": "FloatProgressModel",
          "state": {
            "_view_name": "ProgressView",
            "style": "IPY_MODEL_491531e4fa214c138f9e2c90a3f08121",
            "_dom_classes": [],
            "description": " 93%",
            "_model_name": "FloatProgressModel",
            "bar_style": "danger",
            "max": 3680,
            "_view_module": "@jupyter-widgets/controls",
            "_model_module_version": "1.5.0",
            "value": 3435,
            "_view_count": null,
            "_view_module_version": "1.5.0",
            "orientation": "horizontal",
            "min": 0,
            "description_tooltip": null,
            "_model_module": "@jupyter-widgets/controls",
            "layout": "IPY_MODEL_7fd566becc12425882449ea4d20018a6"
          }
        },
        "8d8267dfab9644b7bc998cef99ced21b": {
          "model_module": "@jupyter-widgets/controls",
          "model_name": "HTMLModel",
          "state": {
            "_view_name": "HTMLView",
            "style": "IPY_MODEL_cbcbb8aa947e489e9ae9aad0425a206d",
            "_dom_classes": [],
            "description": "",
            "_model_name": "HTMLModel",
            "placeholder": "​",
            "_view_module": "@jupyter-widgets/controls",
            "_model_module_version": "1.5.0",
            "value": " 3435/3680 [00:00&lt;00:00, 5072.70 examples/s]",
            "_view_count": null,
            "_view_module_version": "1.5.0",
            "description_tooltip": null,
            "_model_module": "@jupyter-widgets/controls",
            "layout": "IPY_MODEL_7b774f4847424a4f875cdc7d9efe7c24"
          }
        },
        "491531e4fa214c138f9e2c90a3f08121": {
          "model_module": "@jupyter-widgets/controls",
          "model_name": "ProgressStyleModel",
          "state": {
            "_view_name": "StyleView",
            "_model_name": "ProgressStyleModel",
            "description_width": "initial",
            "_view_module": "@jupyter-widgets/base",
            "_model_module_version": "1.5.0",
            "_view_count": null,
            "_view_module_version": "1.2.0",
            "bar_color": null,
            "_model_module": "@jupyter-widgets/controls"
          }
        },
        "7fd566becc12425882449ea4d20018a6": {
          "model_module": "@jupyter-widgets/base",
          "model_name": "LayoutModel",
          "state": {
            "_view_name": "LayoutView",
            "grid_template_rows": null,
            "right": null,
            "justify_content": null,
            "_view_module": "@jupyter-widgets/base",
            "overflow": null,
            "_model_module_version": "1.2.0",
            "_view_count": null,
            "flex_flow": null,
            "width": null,
            "min_width": null,
            "border": null,
            "align_items": null,
            "bottom": null,
            "_model_module": "@jupyter-widgets/base",
            "top": null,
            "grid_column": null,
            "overflow_y": null,
            "overflow_x": null,
            "grid_auto_flow": null,
            "grid_area": null,
            "grid_template_columns": null,
            "flex": null,
            "_model_name": "LayoutModel",
            "justify_items": null,
            "grid_row": null,
            "max_height": null,
            "align_content": null,
            "visibility": null,
            "align_self": null,
            "height": null,
            "min_height": null,
            "padding": null,
            "grid_auto_rows": null,
            "grid_gap": null,
            "max_width": null,
            "order": null,
            "_view_module_version": "1.2.0",
            "grid_template_areas": null,
            "object_position": null,
            "object_fit": null,
            "grid_auto_columns": null,
            "margin": null,
            "display": null,
            "left": null
          }
        },
        "cbcbb8aa947e489e9ae9aad0425a206d": {
          "model_module": "@jupyter-widgets/controls",
          "model_name": "DescriptionStyleModel",
          "state": {
            "_view_name": "StyleView",
            "_model_name": "DescriptionStyleModel",
            "description_width": "",
            "_view_module": "@jupyter-widgets/base",
            "_model_module_version": "1.5.0",
            "_view_count": null,
            "_view_module_version": "1.2.0",
            "_model_module": "@jupyter-widgets/controls"
          }
        },
        "7b774f4847424a4f875cdc7d9efe7c24": {
          "model_module": "@jupyter-widgets/base",
          "model_name": "LayoutModel",
          "state": {
            "_view_name": "LayoutView",
            "grid_template_rows": null,
            "right": null,
            "justify_content": null,
            "_view_module": "@jupyter-widgets/base",
            "overflow": null,
            "_model_module_version": "1.2.0",
            "_view_count": null,
            "flex_flow": null,
            "width": null,
            "min_width": null,
            "border": null,
            "align_items": null,
            "bottom": null,
            "_model_module": "@jupyter-widgets/base",
            "top": null,
            "grid_column": null,
            "overflow_y": null,
            "overflow_x": null,
            "grid_auto_flow": null,
            "grid_area": null,
            "grid_template_columns": null,
            "flex": null,
            "_model_name": "LayoutModel",
            "justify_items": null,
            "grid_row": null,
            "max_height": null,
            "align_content": null,
            "visibility": null,
            "align_self": null,
            "height": null,
            "min_height": null,
            "padding": null,
            "grid_auto_rows": null,
            "grid_gap": null,
            "max_width": null,
            "order": null,
            "_view_module_version": "1.2.0",
            "grid_template_areas": null,
            "object_position": null,
            "object_fit": null,
            "grid_auto_columns": null,
            "margin": null,
            "display": null,
            "left": null
          }
        },
        "24a0b74a8dfb4e6d8c3ad11bc92a1a12": {
          "model_module": "@jupyter-widgets/controls",
          "model_name": "HBoxModel",
          "state": {
            "_view_name": "HBoxView",
            "_dom_classes": [],
            "_model_name": "HBoxModel",
            "_view_module": "@jupyter-widgets/controls",
            "_model_module_version": "1.5.0",
            "_view_count": null,
            "_view_module_version": "1.5.0",
            "box_style": "",
            "layout": "IPY_MODEL_21a6cd97f0ec4a21a3d4a835c1b8b518",
            "_model_module": "@jupyter-widgets/controls",
            "children": [
              "IPY_MODEL_dab23dc9ae50429b82be666b5e613b55",
              "IPY_MODEL_606a0cda764147f6adf8a81df0e21994"
            ]
          }
        },
        "21a6cd97f0ec4a21a3d4a835c1b8b518": {
          "model_module": "@jupyter-widgets/base",
          "model_name": "LayoutModel",
          "state": {
            "_view_name": "LayoutView",
            "grid_template_rows": null,
            "right": null,
            "justify_content": null,
            "_view_module": "@jupyter-widgets/base",
            "overflow": null,
            "_model_module_version": "1.2.0",
            "_view_count": null,
            "flex_flow": null,
            "width": null,
            "min_width": null,
            "border": null,
            "align_items": null,
            "bottom": null,
            "_model_module": "@jupyter-widgets/base",
            "top": null,
            "grid_column": null,
            "overflow_y": null,
            "overflow_x": null,
            "grid_auto_flow": null,
            "grid_area": null,
            "grid_template_columns": null,
            "flex": null,
            "_model_name": "LayoutModel",
            "justify_items": null,
            "grid_row": null,
            "max_height": null,
            "align_content": null,
            "visibility": null,
            "align_self": null,
            "height": null,
            "min_height": null,
            "padding": null,
            "grid_auto_rows": null,
            "grid_gap": null,
            "max_width": null,
            "order": null,
            "_view_module_version": "1.2.0",
            "grid_template_areas": null,
            "object_position": null,
            "object_fit": null,
            "grid_auto_columns": null,
            "margin": null,
            "display": null,
            "left": null
          }
        },
        "dab23dc9ae50429b82be666b5e613b55": {
          "model_module": "@jupyter-widgets/controls",
          "model_name": "FloatProgressModel",
          "state": {
            "_view_name": "ProgressView",
            "style": "IPY_MODEL_ab30ae302db44cd8830f4c28e6d4264b",
            "_dom_classes": [],
            "description": "",
            "_model_name": "FloatProgressModel",
            "bar_style": "info",
            "max": 1,
            "_view_module": "@jupyter-widgets/controls",
            "_model_module_version": "1.5.0",
            "value": 1,
            "_view_count": null,
            "_view_module_version": "1.5.0",
            "orientation": "horizontal",
            "min": 0,
            "description_tooltip": null,
            "_model_module": "@jupyter-widgets/controls",
            "layout": "IPY_MODEL_4e6c3f21ade3410d8942c45c0652d74e"
          }
        },
        "606a0cda764147f6adf8a81df0e21994": {
          "model_module": "@jupyter-widgets/controls",
          "model_name": "HTMLModel",
          "state": {
            "_view_name": "HTMLView",
            "style": "IPY_MODEL_6cb8ccca472d48fc9373db5a63fd98b8",
            "_dom_classes": [],
            "description": "",
            "_model_name": "HTMLModel",
            "placeholder": "​",
            "_view_module": "@jupyter-widgets/controls",
            "_model_module_version": "1.5.0",
            "value": " 3669/0 [00:02&lt;00:00, 1231.45 examples/s]",
            "_view_count": null,
            "_view_module_version": "1.5.0",
            "description_tooltip": null,
            "_model_module": "@jupyter-widgets/controls",
            "layout": "IPY_MODEL_4e292119a2914ebb9c2ab0cc5f4d54b3"
          }
        },
        "ab30ae302db44cd8830f4c28e6d4264b": {
          "model_module": "@jupyter-widgets/controls",
          "model_name": "ProgressStyleModel",
          "state": {
            "_view_name": "StyleView",
            "_model_name": "ProgressStyleModel",
            "description_width": "initial",
            "_view_module": "@jupyter-widgets/base",
            "_model_module_version": "1.5.0",
            "_view_count": null,
            "_view_module_version": "1.2.0",
            "bar_color": null,
            "_model_module": "@jupyter-widgets/controls"
          }
        },
        "4e6c3f21ade3410d8942c45c0652d74e": {
          "model_module": "@jupyter-widgets/base",
          "model_name": "LayoutModel",
          "state": {
            "_view_name": "LayoutView",
            "grid_template_rows": null,
            "right": null,
            "justify_content": null,
            "_view_module": "@jupyter-widgets/base",
            "overflow": null,
            "_model_module_version": "1.2.0",
            "_view_count": null,
            "flex_flow": null,
            "width": null,
            "min_width": null,
            "border": null,
            "align_items": null,
            "bottom": null,
            "_model_module": "@jupyter-widgets/base",
            "top": null,
            "grid_column": null,
            "overflow_y": null,
            "overflow_x": null,
            "grid_auto_flow": null,
            "grid_area": null,
            "grid_template_columns": null,
            "flex": null,
            "_model_name": "LayoutModel",
            "justify_items": null,
            "grid_row": null,
            "max_height": null,
            "align_content": null,
            "visibility": null,
            "align_self": null,
            "height": null,
            "min_height": null,
            "padding": null,
            "grid_auto_rows": null,
            "grid_gap": null,
            "max_width": null,
            "order": null,
            "_view_module_version": "1.2.0",
            "grid_template_areas": null,
            "object_position": null,
            "object_fit": null,
            "grid_auto_columns": null,
            "margin": null,
            "display": null,
            "left": null
          }
        },
        "6cb8ccca472d48fc9373db5a63fd98b8": {
          "model_module": "@jupyter-widgets/controls",
          "model_name": "DescriptionStyleModel",
          "state": {
            "_view_name": "StyleView",
            "_model_name": "DescriptionStyleModel",
            "description_width": "",
            "_view_module": "@jupyter-widgets/base",
            "_model_module_version": "1.5.0",
            "_view_count": null,
            "_view_module_version": "1.2.0",
            "_model_module": "@jupyter-widgets/controls"
          }
        },
        "4e292119a2914ebb9c2ab0cc5f4d54b3": {
          "model_module": "@jupyter-widgets/base",
          "model_name": "LayoutModel",
          "state": {
            "_view_name": "LayoutView",
            "grid_template_rows": null,
            "right": null,
            "justify_content": null,
            "_view_module": "@jupyter-widgets/base",
            "overflow": null,
            "_model_module_version": "1.2.0",
            "_view_count": null,
            "flex_flow": null,
            "width": null,
            "min_width": null,
            "border": null,
            "align_items": null,
            "bottom": null,
            "_model_module": "@jupyter-widgets/base",
            "top": null,
            "grid_column": null,
            "overflow_y": null,
            "overflow_x": null,
            "grid_auto_flow": null,
            "grid_area": null,
            "grid_template_columns": null,
            "flex": null,
            "_model_name": "LayoutModel",
            "justify_items": null,
            "grid_row": null,
            "max_height": null,
            "align_content": null,
            "visibility": null,
            "align_self": null,
            "height": null,
            "min_height": null,
            "padding": null,
            "grid_auto_rows": null,
            "grid_gap": null,
            "max_width": null,
            "order": null,
            "_view_module_version": "1.2.0",
            "grid_template_areas": null,
            "object_position": null,
            "object_fit": null,
            "grid_auto_columns": null,
            "margin": null,
            "display": null,
            "left": null
          }
        },
        "0329c241a93c480ba66ffc57bb3ae772": {
          "model_module": "@jupyter-widgets/controls",
          "model_name": "HBoxModel",
          "state": {
            "_view_name": "HBoxView",
            "_dom_classes": [],
            "_model_name": "HBoxModel",
            "_view_module": "@jupyter-widgets/controls",
            "_model_module_version": "1.5.0",
            "_view_count": null,
            "_view_module_version": "1.5.0",
            "box_style": "",
            "layout": "IPY_MODEL_2af0f9ec4a00471fa413aaaba71a7f32",
            "_model_module": "@jupyter-widgets/controls",
            "children": [
              "IPY_MODEL_829780546d77439e984d3c0801fa3aec",
              "IPY_MODEL_bf1396ec9ba5444db0be2cc1c1828951"
            ]
          }
        },
        "2af0f9ec4a00471fa413aaaba71a7f32": {
          "model_module": "@jupyter-widgets/base",
          "model_name": "LayoutModel",
          "state": {
            "_view_name": "LayoutView",
            "grid_template_rows": null,
            "right": null,
            "justify_content": null,
            "_view_module": "@jupyter-widgets/base",
            "overflow": null,
            "_model_module_version": "1.2.0",
            "_view_count": null,
            "flex_flow": null,
            "width": null,
            "min_width": null,
            "border": null,
            "align_items": null,
            "bottom": null,
            "_model_module": "@jupyter-widgets/base",
            "top": null,
            "grid_column": null,
            "overflow_y": null,
            "overflow_x": null,
            "grid_auto_flow": null,
            "grid_area": null,
            "grid_template_columns": null,
            "flex": null,
            "_model_name": "LayoutModel",
            "justify_items": null,
            "grid_row": null,
            "max_height": null,
            "align_content": null,
            "visibility": null,
            "align_self": null,
            "height": null,
            "min_height": null,
            "padding": null,
            "grid_auto_rows": null,
            "grid_gap": null,
            "max_width": null,
            "order": null,
            "_view_module_version": "1.2.0",
            "grid_template_areas": null,
            "object_position": null,
            "object_fit": null,
            "grid_auto_columns": null,
            "margin": null,
            "display": null,
            "left": null
          }
        },
        "829780546d77439e984d3c0801fa3aec": {
          "model_module": "@jupyter-widgets/controls",
          "model_name": "FloatProgressModel",
          "state": {
            "_view_name": "ProgressView",
            "style": "IPY_MODEL_a18317d29c1d476ca2bdecb8b14bb9f9",
            "_dom_classes": [],
            "description": " 99%",
            "_model_name": "FloatProgressModel",
            "bar_style": "danger",
            "max": 3669,
            "_view_module": "@jupyter-widgets/controls",
            "_model_module_version": "1.5.0",
            "value": 3637,
            "_view_count": null,
            "_view_module_version": "1.5.0",
            "orientation": "horizontal",
            "min": 0,
            "description_tooltip": null,
            "_model_module": "@jupyter-widgets/controls",
            "layout": "IPY_MODEL_de28ce1c6fe34fae8cc2c24aa6b277d7"
          }
        },
        "bf1396ec9ba5444db0be2cc1c1828951": {
          "model_module": "@jupyter-widgets/controls",
          "model_name": "HTMLModel",
          "state": {
            "_view_name": "HTMLView",
            "style": "IPY_MODEL_3aa4227fecec4ec2b00691b07087f669",
            "_dom_classes": [],
            "description": "",
            "_model_name": "HTMLModel",
            "placeholder": "​",
            "_view_module": "@jupyter-widgets/controls",
            "_model_module_version": "1.5.0",
            "value": " 3637/3669 [00:01&lt;00:00, 2169.77 examples/s]",
            "_view_count": null,
            "_view_module_version": "1.5.0",
            "description_tooltip": null,
            "_model_module": "@jupyter-widgets/controls",
            "layout": "IPY_MODEL_f66333552a6d47a89e39ef4f2ba75597"
          }
        },
        "a18317d29c1d476ca2bdecb8b14bb9f9": {
          "model_module": "@jupyter-widgets/controls",
          "model_name": "ProgressStyleModel",
          "state": {
            "_view_name": "StyleView",
            "_model_name": "ProgressStyleModel",
            "description_width": "initial",
            "_view_module": "@jupyter-widgets/base",
            "_model_module_version": "1.5.0",
            "_view_count": null,
            "_view_module_version": "1.2.0",
            "bar_color": null,
            "_model_module": "@jupyter-widgets/controls"
          }
        },
        "de28ce1c6fe34fae8cc2c24aa6b277d7": {
          "model_module": "@jupyter-widgets/base",
          "model_name": "LayoutModel",
          "state": {
            "_view_name": "LayoutView",
            "grid_template_rows": null,
            "right": null,
            "justify_content": null,
            "_view_module": "@jupyter-widgets/base",
            "overflow": null,
            "_model_module_version": "1.2.0",
            "_view_count": null,
            "flex_flow": null,
            "width": null,
            "min_width": null,
            "border": null,
            "align_items": null,
            "bottom": null,
            "_model_module": "@jupyter-widgets/base",
            "top": null,
            "grid_column": null,
            "overflow_y": null,
            "overflow_x": null,
            "grid_auto_flow": null,
            "grid_area": null,
            "grid_template_columns": null,
            "flex": null,
            "_model_name": "LayoutModel",
            "justify_items": null,
            "grid_row": null,
            "max_height": null,
            "align_content": null,
            "visibility": null,
            "align_self": null,
            "height": null,
            "min_height": null,
            "padding": null,
            "grid_auto_rows": null,
            "grid_gap": null,
            "max_width": null,
            "order": null,
            "_view_module_version": "1.2.0",
            "grid_template_areas": null,
            "object_position": null,
            "object_fit": null,
            "grid_auto_columns": null,
            "margin": null,
            "display": null,
            "left": null
          }
        },
        "3aa4227fecec4ec2b00691b07087f669": {
          "model_module": "@jupyter-widgets/controls",
          "model_name": "DescriptionStyleModel",
          "state": {
            "_view_name": "StyleView",
            "_model_name": "DescriptionStyleModel",
            "description_width": "",
            "_view_module": "@jupyter-widgets/base",
            "_model_module_version": "1.5.0",
            "_view_count": null,
            "_view_module_version": "1.2.0",
            "_model_module": "@jupyter-widgets/controls"
          }
        },
        "f66333552a6d47a89e39ef4f2ba75597": {
          "model_module": "@jupyter-widgets/base",
          "model_name": "LayoutModel",
          "state": {
            "_view_name": "LayoutView",
            "grid_template_rows": null,
            "right": null,
            "justify_content": null,
            "_view_module": "@jupyter-widgets/base",
            "overflow": null,
            "_model_module_version": "1.2.0",
            "_view_count": null,
            "flex_flow": null,
            "width": null,
            "min_width": null,
            "border": null,
            "align_items": null,
            "bottom": null,
            "_model_module": "@jupyter-widgets/base",
            "top": null,
            "grid_column": null,
            "overflow_y": null,
            "overflow_x": null,
            "grid_auto_flow": null,
            "grid_area": null,
            "grid_template_columns": null,
            "flex": null,
            "_model_name": "LayoutModel",
            "justify_items": null,
            "grid_row": null,
            "max_height": null,
            "align_content": null,
            "visibility": null,
            "align_self": null,
            "height": null,
            "min_height": null,
            "padding": null,
            "grid_auto_rows": null,
            "grid_gap": null,
            "max_width": null,
            "order": null,
            "_view_module_version": "1.2.0",
            "grid_template_areas": null,
            "object_position": null,
            "object_fit": null,
            "grid_auto_columns": null,
            "margin": null,
            "display": null,
            "left": null
          }
        },
        "11d973962b4f4931b00879f97bf90c4d": {
          "model_module": "@jupyter-widgets/controls",
          "model_name": "HBoxModel",
          "state": {
            "_view_name": "HBoxView",
            "_dom_classes": [],
            "_model_name": "HBoxModel",
            "_view_module": "@jupyter-widgets/controls",
            "_model_module_version": "1.5.0",
            "_view_count": null,
            "_view_module_version": "1.5.0",
            "box_style": "",
            "layout": "IPY_MODEL_343f8eefbff64dd894b5f59ae00f3026",
            "_model_module": "@jupyter-widgets/controls",
            "children": [
              "IPY_MODEL_2c1a338a150748dab5ebe649b3299277",
              "IPY_MODEL_d64d35c0aee24d5493b9c5a4ac761b6b"
            ]
          }
        },
        "343f8eefbff64dd894b5f59ae00f3026": {
          "model_module": "@jupyter-widgets/base",
          "model_name": "LayoutModel",
          "state": {
            "_view_name": "LayoutView",
            "grid_template_rows": null,
            "right": null,
            "justify_content": null,
            "_view_module": "@jupyter-widgets/base",
            "overflow": null,
            "_model_module_version": "1.2.0",
            "_view_count": null,
            "flex_flow": null,
            "width": null,
            "min_width": null,
            "border": null,
            "align_items": null,
            "bottom": null,
            "_model_module": "@jupyter-widgets/base",
            "top": null,
            "grid_column": null,
            "overflow_y": null,
            "overflow_x": null,
            "grid_auto_flow": null,
            "grid_area": null,
            "grid_template_columns": null,
            "flex": null,
            "_model_name": "LayoutModel",
            "justify_items": null,
            "grid_row": null,
            "max_height": null,
            "align_content": null,
            "visibility": null,
            "align_self": null,
            "height": null,
            "min_height": null,
            "padding": null,
            "grid_auto_rows": null,
            "grid_gap": null,
            "max_width": null,
            "order": null,
            "_view_module_version": "1.2.0",
            "grid_template_areas": null,
            "object_position": null,
            "object_fit": null,
            "grid_auto_columns": null,
            "margin": null,
            "display": null,
            "left": null
          }
        },
        "2c1a338a150748dab5ebe649b3299277": {
          "model_module": "@jupyter-widgets/controls",
          "model_name": "FloatProgressModel",
          "state": {
            "_view_name": "ProgressView",
            "style": "IPY_MODEL_6fea24c0954848f0b8214b61ee70b92f",
            "_dom_classes": [],
            "description": "Dl Completed...: 100%",
            "_model_name": "FloatProgressModel",
            "bar_style": "success",
            "max": 5,
            "_view_module": "@jupyter-widgets/controls",
            "_model_module_version": "1.5.0",
            "value": 5,
            "_view_count": null,
            "_view_module_version": "1.5.0",
            "orientation": "horizontal",
            "min": 0,
            "description_tooltip": null,
            "_model_module": "@jupyter-widgets/controls",
            "layout": "IPY_MODEL_bc746d01bc684e4a83d50e112222d867"
          }
        },
        "d64d35c0aee24d5493b9c5a4ac761b6b": {
          "model_module": "@jupyter-widgets/controls",
          "model_name": "HTMLModel",
          "state": {
            "_view_name": "HTMLView",
            "style": "IPY_MODEL_aabf13ebd27742cca6d64500cabdf3c9",
            "_dom_classes": [],
            "description": "",
            "_model_name": "HTMLModel",
            "placeholder": "​",
            "_view_module": "@jupyter-widgets/controls",
            "_model_module_version": "1.5.0",
            "value": " 5/5 [00:02&lt;00:00,  2.12 file/s]",
            "_view_count": null,
            "_view_module_version": "1.5.0",
            "description_tooltip": null,
            "_model_module": "@jupyter-widgets/controls",
            "layout": "IPY_MODEL_eee680c93f2d43a09fa159b089acb7c2"
          }
        },
        "6fea24c0954848f0b8214b61ee70b92f": {
          "model_module": "@jupyter-widgets/controls",
          "model_name": "ProgressStyleModel",
          "state": {
            "_view_name": "StyleView",
            "_model_name": "ProgressStyleModel",
            "description_width": "initial",
            "_view_module": "@jupyter-widgets/base",
            "_model_module_version": "1.5.0",
            "_view_count": null,
            "_view_module_version": "1.2.0",
            "bar_color": null,
            "_model_module": "@jupyter-widgets/controls"
          }
        },
        "bc746d01bc684e4a83d50e112222d867": {
          "model_module": "@jupyter-widgets/base",
          "model_name": "LayoutModel",
          "state": {
            "_view_name": "LayoutView",
            "grid_template_rows": null,
            "right": null,
            "justify_content": null,
            "_view_module": "@jupyter-widgets/base",
            "overflow": null,
            "_model_module_version": "1.2.0",
            "_view_count": null,
            "flex_flow": null,
            "width": null,
            "min_width": null,
            "border": null,
            "align_items": null,
            "bottom": null,
            "_model_module": "@jupyter-widgets/base",
            "top": null,
            "grid_column": null,
            "overflow_y": null,
            "overflow_x": null,
            "grid_auto_flow": null,
            "grid_area": null,
            "grid_template_columns": null,
            "flex": null,
            "_model_name": "LayoutModel",
            "justify_items": null,
            "grid_row": null,
            "max_height": null,
            "align_content": null,
            "visibility": null,
            "align_self": null,
            "height": null,
            "min_height": null,
            "padding": null,
            "grid_auto_rows": null,
            "grid_gap": null,
            "max_width": null,
            "order": null,
            "_view_module_version": "1.2.0",
            "grid_template_areas": null,
            "object_position": null,
            "object_fit": null,
            "grid_auto_columns": null,
            "margin": null,
            "display": null,
            "left": null
          }
        },
        "aabf13ebd27742cca6d64500cabdf3c9": {
          "model_module": "@jupyter-widgets/controls",
          "model_name": "DescriptionStyleModel",
          "state": {
            "_view_name": "StyleView",
            "_model_name": "DescriptionStyleModel",
            "description_width": "",
            "_view_module": "@jupyter-widgets/base",
            "_model_module_version": "1.5.0",
            "_view_count": null,
            "_view_module_version": "1.2.0",
            "_model_module": "@jupyter-widgets/controls"
          }
        },
        "eee680c93f2d43a09fa159b089acb7c2": {
          "model_module": "@jupyter-widgets/base",
          "model_name": "LayoutModel",
          "state": {
            "_view_name": "LayoutView",
            "grid_template_rows": null,
            "right": null,
            "justify_content": null,
            "_view_module": "@jupyter-widgets/base",
            "overflow": null,
            "_model_module_version": "1.2.0",
            "_view_count": null,
            "flex_flow": null,
            "width": null,
            "min_width": null,
            "border": null,
            "align_items": null,
            "bottom": null,
            "_model_module": "@jupyter-widgets/base",
            "top": null,
            "grid_column": null,
            "overflow_y": null,
            "overflow_x": null,
            "grid_auto_flow": null,
            "grid_area": null,
            "grid_template_columns": null,
            "flex": null,
            "_model_name": "LayoutModel",
            "justify_items": null,
            "grid_row": null,
            "max_height": null,
            "align_content": null,
            "visibility": null,
            "align_self": null,
            "height": null,
            "min_height": null,
            "padding": null,
            "grid_auto_rows": null,
            "grid_gap": null,
            "max_width": null,
            "order": null,
            "_view_module_version": "1.2.0",
            "grid_template_areas": null,
            "object_position": null,
            "object_fit": null,
            "grid_auto_columns": null,
            "margin": null,
            "display": null,
            "left": null
          }
        }
      }
    }
  },
  "cells": [
    {
      "cell_type": "markdown",
      "metadata": {
        "id": "sXhZm0kpPpH6"
      },
      "source": [
        "##### Copyright 2021 Google LLC."
      ]
    },
    {
      "cell_type": "code",
      "metadata": {
        "cellView": "form",
        "id": "KfmzfvFxPuk7"
      },
      "source": [
        "#@title Licensed under the Apache License, Version 2.0 (the \"License\");\n",
        "# Licensed under the Apache License, Version 2.0 (the \"License\");\n",
        "# you may not use this file except in compliance with the License.\n",
        "# You may obtain a copy of the License at\n",
        "#\n",
        "# https://www.apache.org/licenses/LICENSE-2.0\n",
        "#\n",
        "# Unless required by applicable law or agreed to in writing, software\n",
        "# distributed under the License is distributed on an \"AS IS\" BASIS,\n",
        "# WITHOUT WARRANTIES OR CONDITIONS OF ANY KIND, either express or implied.\n",
        "# See the License for the specific language governing permissions and\n",
        "# limitations under the License."
      ],
      "execution_count": 1,
      "outputs": []
    },
    {
      "cell_type": "markdown",
      "metadata": {
        "id": "iOVCm4CnP1Do"
      },
      "source": [
        "<a href=\"https://colab.research.google.com/github/google-research/vision_transformer/blob/master/vit_jax_augreg.ipynb\" target=\"_parent\"><img src=\"https://colab.research.google.com/assets/colab-badge.svg\" alt=\"Open In Colab\"/></a>"
      ]
    },
    {
      "cell_type": "markdown",
      "metadata": {
        "id": "8dkWVp5qbziu"
      },
      "source": [
        "## How to train your ViT? Data, Augmentation, and Regularization in Vision Transformers"
      ]
    },
    {
      "cell_type": "markdown",
      "metadata": {
        "id": "ofwi7yvlx5hj"
      },
      "source": [
        "Model repository published with the paper\n",
        "\n",
        "[**How to train your ViT? Data, Augmentation, and Regularization in Vision\n",
        "Transformers**](https://arxiv.org/abs/2106.10270)\n",
        "\n",
        "This Colab shows how to\n",
        "[find checkpoints](#scrollTo=F4SLGDtFxlsC)\n",
        "in the repository, how to\n",
        "[select and load a model](#scrollTo=wh_SLkQtQ6K4)\n",
        "form the repository and use it for inference\n",
        "([also with PyTorch](#scrollTo=1nMyWmDycpAo)),\n",
        "and how to\n",
        "[fine-tune on a dataset](#scrollTo=iAruT3YOxqB6).\n",
        "\n",
        "For more details, please refer to the repository:\n",
        "\n",
        "https://github.com/google-research/vision_transformer/\n",
        "\n",
        "Note that this Colab directly uses the unmodified code from the repository. If\n",
        "you want to modify the modules and persist your changes, you can do all that\n",
        "using free GPUs and TPUs without leaving the Colab environment - see\n",
        "\n",
        "https://colab.research.google.com/github/google-research/vision_transformer/blob/master/vit_jax.ipynb"
      ]
    },
    {
      "cell_type": "markdown",
      "metadata": {
        "id": "LPNkX_dfCNog"
      },
      "source": [
        "### Imports"
      ]
    },
    {
      "cell_type": "code",
      "metadata": {
        "colab": {
          "base_uri": "https://localhost:8080/"
        },
        "id": "_ihyJdwbCVmW",
        "outputId": "55da88c4-3b50-41ec-9e06-1d017141ab05"
      },
      "source": [
        "# Fetch vision_transformer repository.\n",
        "![ -d vision_transformer ] || git clone --depth=1 https://github.com/google-research/vision_transformer\n"
      ],
      "execution_count": 2,
      "outputs": [
        {
          "output_type": "stream",
          "text": [
            "Cloning into 'vision_transformer'...\n",
            "remote: Enumerating objects: 37, done.\u001b[K\n",
            "remote: Counting objects: 100% (37/37), done.\u001b[K\n",
            "remote: Compressing objects: 100% (34/34), done.\u001b[K\n",
            "remote: Total 37 (delta 4), reused 15 (delta 1), pack-reused 0\u001b[K\n",
            "Unpacking objects: 100% (37/37), done.\n"
          ],
          "name": "stdout"
        }
      ]
    },
    {
      "cell_type": "code",
      "metadata": {
        "colab": {
          "base_uri": "https://localhost:8080/"
        },
        "id": "__7nV7c6C4Zn",
        "outputId": "68ed599f-d68d-4a98-d81c-70a1ab125323"
      },
      "source": [
        "# Install dependencies.\n",
        "!pip install -qr vision_transformer/vit_jax/requirements.txt"
      ],
      "execution_count": 3,
      "outputs": [
        {
          "output_type": "stream",
          "text": [
            "\u001b[K     |████████████████████████████████| 61kB 8.3MB/s \n",
            "\u001b[K     |████████████████████████████████| 81kB 11.2MB/s \n",
            "\u001b[K     |████████████████████████████████| 184kB 40.7MB/s \n",
            "\u001b[K     |████████████████████████████████| 92kB 10.4MB/s \n",
            "\u001b[K     |████████████████████████████████| 168.3MB 87kB/s \n",
            "\u001b[?25h"
          ],
          "name": "stdout"
        }
      ]
    },
    {
      "cell_type": "code",
      "metadata": {
        "id": "R9VrgMtUC2w-"
      },
      "source": [
        "# Import files from repository.\n",
        "\n",
        "import sys\n",
        "if './vision_transformer' not in sys.path:\n",
        "  sys.path.append('./vision_transformer')\n",
        "\n",
        "%load_ext autoreload\n",
        "%autoreload 2\n",
        "\n",
        "from vit_jax import checkpoint\n",
        "from vit_jax import models\n",
        "from vit_jax import train\n",
        "from vit_jax.configs import augreg as augreg_config\n",
        "from vit_jax.configs import models as models_config"
      ],
      "execution_count": 4,
      "outputs": []
    },
    {
      "cell_type": "code",
      "metadata": {
        "colab": {
          "base_uri": "https://localhost:8080/"
        },
        "id": "MpYDX1idbVxq",
        "outputId": "3b0ccb79-af05-4e64-f5df-43f7f59c22ef"
      },
      "source": [
        "# Connect to TPUs if runtime type is of type TPU.\n",
        "\n",
        "import os\n",
        "if 'google.colab' in str(get_ipython()) and 'COLAB_TPU_ADDR' in os.environ:\n",
        "  import jax\n",
        "  import jax.tools.colab_tpu\n",
        "  jax.tools.colab_tpu.setup_tpu()\n",
        "  print('Connected to TPU.')\n",
        "else:\n",
        "  # Otherwise print information about GPU.\n",
        "  !nvidia-smi"
      ],
      "execution_count": 5,
      "outputs": [
        {
          "output_type": "stream",
          "text": [
            "Sun Jun 20 17:46:45 2021       \n",
            "+-----------------------------------------------------------------------------+\n",
            "| NVIDIA-SMI 465.27       Driver Version: 460.32.03    CUDA Version: 11.2     |\n",
            "|-------------------------------+----------------------+----------------------+\n",
            "| GPU  Name        Persistence-M| Bus-Id        Disp.A | Volatile Uncorr. ECC |\n",
            "| Fan  Temp  Perf  Pwr:Usage/Cap|         Memory-Usage | GPU-Util  Compute M. |\n",
            "|                               |                      |               MIG M. |\n",
            "|===============================+======================+======================|\n",
            "|   0  Tesla T4            Off  | 00000000:00:04.0 Off |                    0 |\n",
            "| N/A   44C    P8     9W /  70W |      0MiB / 15109MiB |      0%      Default |\n",
            "|                               |                      |                  N/A |\n",
            "+-------------------------------+----------------------+----------------------+\n",
            "                                                                               \n",
            "+-----------------------------------------------------------------------------+\n",
            "| Processes:                                                                  |\n",
            "|  GPU   GI   CI        PID   Type   Process name                  GPU Memory |\n",
            "|        ID   ID                                                   Usage      |\n",
            "|=============================================================================|\n",
            "|  No running processes found                                                 |\n",
            "+-----------------------------------------------------------------------------+\n"
          ],
          "name": "stdout"
        }
      ]
    },
    {
      "cell_type": "code",
      "metadata": {
        "id": "6xTeXue8DfwL"
      },
      "source": [
        "# Some more imports used in this Colab.\n",
        "\n",
        "import glob\n",
        "import os\n",
        "import random\n",
        "import shutil\n",
        "import time\n",
        "\n",
        "from absl import logging\n",
        "import pandas as pd\n",
        "import seaborn as sns\n",
        "import tensorflow as tf\n",
        "import tensorflow_datasets as tfds\n",
        "from matplotlib import pyplot as plt\n",
        "\n",
        "pd.options.display.max_colwidth = None\n",
        "logging.set_verbosity(logging.INFO)  # Shows logs during training."
      ],
      "execution_count": 6,
      "outputs": []
    },
    {
      "cell_type": "markdown",
      "metadata": {
        "id": "F4SLGDtFxlsC"
      },
      "source": [
        "### Explore checkpoints\n",
        "\n",
        "This section contains shows how to use the `index.csv` table for model\n",
        "selection.\n",
        "\n",
        "See\n",
        "[`vit_jax.checkpoint.get_augreg_df()`](https://github.com/google-research/vision_transformer/blob/ed1491238f5ff6099cca81087c575a215281ed14/vit_jax/checkpoint.py#L181-L228)\n",
        "for a detailed description of the individual columns"
      ]
    },
    {
      "cell_type": "code",
      "metadata": {
        "id": "yy-cuGxyD6Xw"
      },
      "source": [
        "# Load master table from Cloud.\n",
        "with tf.io.gfile.GFile('gs://vit_models/augreg/index.csv') as f:\n",
        "  df = pd.read_csv(f)"
      ],
      "execution_count": 7,
      "outputs": []
    },
    {
      "cell_type": "code",
      "metadata": {
        "colab": {
          "base_uri": "https://localhost:8080/"
        },
        "id": "j8iAESfDKCQS",
        "outputId": "9786f61b-263b-41d7-8025-bac3419e33df"
      },
      "source": [
        "# This is a pretty large table with lots of columns:\n",
        "print(f'loaded {len(df):,} rows')\n",
        "df.columns"
      ],
      "execution_count": 8,
      "outputs": [
        {
          "output_type": "stream",
          "text": [
            "loaded 51,407 rows\n"
          ],
          "name": "stdout"
        },
        {
          "output_type": "execute_result",
          "data": {
            "text/plain": [
              "Index(['name', 'ds', 'epochs', 'lr', 'aug', 'wd', 'do', 'sd', 'best_val',\n",
              "       'final_val', 'final_test', 'adapt_ds', 'adapt_lr', 'adapt_steps',\n",
              "       'adapt_resolution', 'adapt_final_val', 'adapt_final_test', 'params',\n",
              "       'infer_samples_per_sec', 'filename', 'adapt_filename'],\n",
              "      dtype='object')"
            ]
          },
          "metadata": {
            "tags": []
          },
          "execution_count": 8
        }
      ]
    },
    {
      "cell_type": "code",
      "metadata": {
        "colab": {
          "base_uri": "https://localhost:8080/"
        },
        "id": "Wi4CwizkKIx_",
        "outputId": "03038e3f-7b8e-45ba-e118-74f8b319c8a0"
      },
      "source": [
        "# Number of distinct checkpoints\n",
        "len(tf.io.gfile.glob('gs://vit_models/augreg/*.npz'))"
      ],
      "execution_count": 9,
      "outputs": [
        {
          "output_type": "execute_result",
          "data": {
            "text/plain": [
              "52163"
            ]
          },
          "metadata": {
            "tags": []
          },
          "execution_count": 9
        }
      ]
    },
    {
      "cell_type": "code",
      "metadata": {
        "colab": {
          "base_uri": "https://localhost:8080/"
        },
        "id": "FOM3HkkbKPdk",
        "outputId": "01989df1-3bf9-43d3-955b-6b931a19b538"
      },
      "source": [
        "# Any column prefixed with \"adapt_\" pertains to the fine-tuned checkpoints.\n",
        "# Any column without that prefix pertains to the pre-trained checkpoints.\n",
        "len(set(df.filename)), len(set(df.adapt_filename))"
      ],
      "execution_count": 10,
      "outputs": [
        {
          "output_type": "execute_result",
          "data": {
            "text/plain": [
              "(756, 51407)"
            ]
          },
          "metadata": {
            "tags": []
          },
          "execution_count": 10
        }
      ]
    },
    {
      "cell_type": "code",
      "metadata": {
        "colab": {
          "base_uri": "https://localhost:8080/",
          "height": 359
        },
        "id": "w38Gjj-SGLVu",
        "outputId": "80320d3a-8989-413d-85da-33710b0789e8"
      },
      "source": [
        "# Upstream AugReg parameters (section 3.3):\n",
        "(\n",
        "df.groupby(['ds', 'name', 'wd', 'do', 'sd', 'aug']).filename\n",
        "  .count().unstack().unstack().unstack()\n",
        "  .dropna(1, 'all').astype(int)\n",
        "  .iloc[:7]  # Just show beginning of a long table.\n",
        ")"
      ],
      "execution_count": 11,
      "outputs": [
        {
          "output_type": "execute_result",
          "data": {
            "text/html": [
              "<div>\n",
              "<style scoped>\n",
              "    .dataframe tbody tr th:only-of-type {\n",
              "        vertical-align: middle;\n",
              "    }\n",
              "\n",
              "    .dataframe tbody tr th {\n",
              "        vertical-align: top;\n",
              "    }\n",
              "\n",
              "    .dataframe thead tr th {\n",
              "        text-align: left;\n",
              "    }\n",
              "\n",
              "    .dataframe thead tr:last-of-type th {\n",
              "        text-align: right;\n",
              "    }\n",
              "</style>\n",
              "<table border=\"1\" class=\"dataframe\">\n",
              "  <thead>\n",
              "    <tr>\n",
              "      <th></th>\n",
              "      <th></th>\n",
              "      <th>aug</th>\n",
              "      <th colspan=\"2\" halign=\"left\">light0</th>\n",
              "      <th colspan=\"2\" halign=\"left\">light1</th>\n",
              "      <th colspan=\"2\" halign=\"left\">medium1</th>\n",
              "      <th colspan=\"2\" halign=\"left\">medium2</th>\n",
              "      <th colspan=\"2\" halign=\"left\">none</th>\n",
              "      <th colspan=\"2\" halign=\"left\">strong1</th>\n",
              "      <th colspan=\"2\" halign=\"left\">strong2</th>\n",
              "    </tr>\n",
              "    <tr>\n",
              "      <th></th>\n",
              "      <th></th>\n",
              "      <th>sd</th>\n",
              "      <th>0.0</th>\n",
              "      <th>0.1</th>\n",
              "      <th>0.0</th>\n",
              "      <th>0.1</th>\n",
              "      <th>0.0</th>\n",
              "      <th>0.1</th>\n",
              "      <th>0.0</th>\n",
              "      <th>0.1</th>\n",
              "      <th>0.0</th>\n",
              "      <th>0.1</th>\n",
              "      <th>0.0</th>\n",
              "      <th>0.1</th>\n",
              "      <th>0.0</th>\n",
              "      <th>0.1</th>\n",
              "    </tr>\n",
              "    <tr>\n",
              "      <th></th>\n",
              "      <th></th>\n",
              "      <th>do</th>\n",
              "      <th>0.0</th>\n",
              "      <th>0.1</th>\n",
              "      <th>0.0</th>\n",
              "      <th>0.1</th>\n",
              "      <th>0.0</th>\n",
              "      <th>0.1</th>\n",
              "      <th>0.0</th>\n",
              "      <th>0.1</th>\n",
              "      <th>0.0</th>\n",
              "      <th>0.1</th>\n",
              "      <th>0.0</th>\n",
              "      <th>0.1</th>\n",
              "      <th>0.0</th>\n",
              "      <th>0.1</th>\n",
              "    </tr>\n",
              "    <tr>\n",
              "      <th>ds</th>\n",
              "      <th>name</th>\n",
              "      <th>wd</th>\n",
              "      <th></th>\n",
              "      <th></th>\n",
              "      <th></th>\n",
              "      <th></th>\n",
              "      <th></th>\n",
              "      <th></th>\n",
              "      <th></th>\n",
              "      <th></th>\n",
              "      <th></th>\n",
              "      <th></th>\n",
              "      <th></th>\n",
              "      <th></th>\n",
              "      <th></th>\n",
              "      <th></th>\n",
              "    </tr>\n",
              "  </thead>\n",
              "  <tbody>\n",
              "    <tr>\n",
              "      <th rowspan=\"7\" valign=\"top\">i1k</th>\n",
              "      <th rowspan=\"2\" valign=\"top\">B/16</th>\n",
              "      <th>0.03</th>\n",
              "      <td>68</td>\n",
              "      <td>68</td>\n",
              "      <td>68</td>\n",
              "      <td>68</td>\n",
              "      <td>68</td>\n",
              "      <td>68</td>\n",
              "      <td>68</td>\n",
              "      <td>68</td>\n",
              "      <td>68</td>\n",
              "      <td>68</td>\n",
              "      <td>68</td>\n",
              "      <td>68</td>\n",
              "      <td>68</td>\n",
              "      <td>68</td>\n",
              "    </tr>\n",
              "    <tr>\n",
              "      <th>0.10</th>\n",
              "      <td>68</td>\n",
              "      <td>68</td>\n",
              "      <td>68</td>\n",
              "      <td>68</td>\n",
              "      <td>68</td>\n",
              "      <td>68</td>\n",
              "      <td>68</td>\n",
              "      <td>68</td>\n",
              "      <td>68</td>\n",
              "      <td>68</td>\n",
              "      <td>68</td>\n",
              "      <td>68</td>\n",
              "      <td>68</td>\n",
              "      <td>68</td>\n",
              "    </tr>\n",
              "    <tr>\n",
              "      <th rowspan=\"2\" valign=\"top\">B/32</th>\n",
              "      <th>0.03</th>\n",
              "      <td>68</td>\n",
              "      <td>68</td>\n",
              "      <td>68</td>\n",
              "      <td>68</td>\n",
              "      <td>68</td>\n",
              "      <td>68</td>\n",
              "      <td>68</td>\n",
              "      <td>68</td>\n",
              "      <td>68</td>\n",
              "      <td>68</td>\n",
              "      <td>68</td>\n",
              "      <td>68</td>\n",
              "      <td>68</td>\n",
              "      <td>68</td>\n",
              "    </tr>\n",
              "    <tr>\n",
              "      <th>0.10</th>\n",
              "      <td>68</td>\n",
              "      <td>68</td>\n",
              "      <td>68</td>\n",
              "      <td>68</td>\n",
              "      <td>68</td>\n",
              "      <td>68</td>\n",
              "      <td>68</td>\n",
              "      <td>68</td>\n",
              "      <td>68</td>\n",
              "      <td>68</td>\n",
              "      <td>68</td>\n",
              "      <td>68</td>\n",
              "      <td>68</td>\n",
              "      <td>68</td>\n",
              "    </tr>\n",
              "    <tr>\n",
              "      <th rowspan=\"2\" valign=\"top\">L/16</th>\n",
              "      <th>0.03</th>\n",
              "      <td>68</td>\n",
              "      <td>68</td>\n",
              "      <td>68</td>\n",
              "      <td>68</td>\n",
              "      <td>68</td>\n",
              "      <td>68</td>\n",
              "      <td>68</td>\n",
              "      <td>68</td>\n",
              "      <td>68</td>\n",
              "      <td>68</td>\n",
              "      <td>68</td>\n",
              "      <td>68</td>\n",
              "      <td>68</td>\n",
              "      <td>68</td>\n",
              "    </tr>\n",
              "    <tr>\n",
              "      <th>0.10</th>\n",
              "      <td>68</td>\n",
              "      <td>68</td>\n",
              "      <td>68</td>\n",
              "      <td>68</td>\n",
              "      <td>68</td>\n",
              "      <td>68</td>\n",
              "      <td>68</td>\n",
              "      <td>68</td>\n",
              "      <td>68</td>\n",
              "      <td>68</td>\n",
              "      <td>68</td>\n",
              "      <td>68</td>\n",
              "      <td>68</td>\n",
              "      <td>68</td>\n",
              "    </tr>\n",
              "    <tr>\n",
              "      <th>R+Ti/16</th>\n",
              "      <th>0.03</th>\n",
              "      <td>68</td>\n",
              "      <td>68</td>\n",
              "      <td>68</td>\n",
              "      <td>68</td>\n",
              "      <td>68</td>\n",
              "      <td>68</td>\n",
              "      <td>68</td>\n",
              "      <td>68</td>\n",
              "      <td>68</td>\n",
              "      <td>68</td>\n",
              "      <td>68</td>\n",
              "      <td>68</td>\n",
              "      <td>68</td>\n",
              "      <td>68</td>\n",
              "    </tr>\n",
              "  </tbody>\n",
              "</table>\n",
              "</div>"
            ],
            "text/plain": [
              "aug              light0     light1     medium1  ... none strong1     strong2    \n",
              "sd                  0.0 0.1    0.0 0.1     0.0  ...  0.1     0.0 0.1     0.0 0.1\n",
              "do                  0.0 0.1    0.0 0.1     0.0  ...  0.1     0.0 0.1     0.0 0.1\n",
              "ds  name    wd                                  ...                             \n",
              "i1k B/16    0.03     68  68     68  68      68  ...   68      68  68      68  68\n",
              "            0.10     68  68     68  68      68  ...   68      68  68      68  68\n",
              "    B/32    0.03     68  68     68  68      68  ...   68      68  68      68  68\n",
              "            0.10     68  68     68  68      68  ...   68      68  68      68  68\n",
              "    L/16    0.03     68  68     68  68      68  ...   68      68  68      68  68\n",
              "            0.10     68  68     68  68      68  ...   68      68  68      68  68\n",
              "    R+Ti/16 0.03     68  68     68  68      68  ...   68      68  68      68  68\n",
              "\n",
              "[7 rows x 14 columns]"
            ]
          },
          "metadata": {
            "tags": []
          },
          "execution_count": 11
        }
      ]
    },
    {
      "cell_type": "code",
      "metadata": {
        "colab": {
          "base_uri": "https://localhost:8080/",
          "height": 421
        },
        "id": "PjI5jX36GeFr",
        "outputId": "2543e360-b085-4ce6-d2e0-c29b4e37bfae"
      },
      "source": [
        "# Downstream parameters (table 4)\n",
        "(\n",
        "df.groupby(['adapt_resolution', 'adapt_ds', 'adapt_lr', 'adapt_steps']).filename\n",
        "  .count().astype(str).unstack().unstack()\n",
        "  .dropna(1, 'all').fillna('')\n",
        ")"
      ],
      "execution_count": 12,
      "outputs": [
        {
          "output_type": "execute_result",
          "data": {
            "text/html": [
              "<div>\n",
              "<style scoped>\n",
              "    .dataframe tbody tr th:only-of-type {\n",
              "        vertical-align: middle;\n",
              "    }\n",
              "\n",
              "    .dataframe tbody tr th {\n",
              "        vertical-align: top;\n",
              "    }\n",
              "\n",
              "    .dataframe thead tr th {\n",
              "        text-align: left;\n",
              "    }\n",
              "\n",
              "    .dataframe thead tr:last-of-type th {\n",
              "        text-align: right;\n",
              "    }\n",
              "</style>\n",
              "<table border=\"1\" class=\"dataframe\">\n",
              "  <thead>\n",
              "    <tr>\n",
              "      <th></th>\n",
              "      <th>adapt_steps</th>\n",
              "      <th colspan=\"4\" halign=\"left\">500</th>\n",
              "      <th colspan=\"4\" halign=\"left\">2500</th>\n",
              "      <th colspan=\"4\" halign=\"left\">10000</th>\n",
              "      <th colspan=\"2\" halign=\"left\">20000</th>\n",
              "    </tr>\n",
              "    <tr>\n",
              "      <th></th>\n",
              "      <th>adapt_lr</th>\n",
              "      <th>0.001</th>\n",
              "      <th>0.003</th>\n",
              "      <th>0.010</th>\n",
              "      <th>0.030</th>\n",
              "      <th>0.001</th>\n",
              "      <th>0.003</th>\n",
              "      <th>0.010</th>\n",
              "      <th>0.030</th>\n",
              "      <th>0.001</th>\n",
              "      <th>0.003</th>\n",
              "      <th>0.010</th>\n",
              "      <th>0.030</th>\n",
              "      <th>0.010</th>\n",
              "      <th>0.030</th>\n",
              "    </tr>\n",
              "    <tr>\n",
              "      <th>adapt_resolution</th>\n",
              "      <th>adapt_ds</th>\n",
              "      <th></th>\n",
              "      <th></th>\n",
              "      <th></th>\n",
              "      <th></th>\n",
              "      <th></th>\n",
              "      <th></th>\n",
              "      <th></th>\n",
              "      <th></th>\n",
              "      <th></th>\n",
              "      <th></th>\n",
              "      <th></th>\n",
              "      <th></th>\n",
              "      <th></th>\n",
              "      <th></th>\n",
              "    </tr>\n",
              "  </thead>\n",
              "  <tbody>\n",
              "    <tr>\n",
              "      <th rowspan=\"5\" valign=\"top\">224</th>\n",
              "      <th>cifar100</th>\n",
              "      <td></td>\n",
              "      <td></td>\n",
              "      <td></td>\n",
              "      <td></td>\n",
              "      <td>756</td>\n",
              "      <td>756</td>\n",
              "      <td>756</td>\n",
              "      <td>756</td>\n",
              "      <td>756</td>\n",
              "      <td>756</td>\n",
              "      <td>756</td>\n",
              "      <td>756</td>\n",
              "      <td></td>\n",
              "      <td></td>\n",
              "    </tr>\n",
              "    <tr>\n",
              "      <th>imagenet2012</th>\n",
              "      <td></td>\n",
              "      <td></td>\n",
              "      <td></td>\n",
              "      <td></td>\n",
              "      <td></td>\n",
              "      <td></td>\n",
              "      <td></td>\n",
              "      <td></td>\n",
              "      <td></td>\n",
              "      <td></td>\n",
              "      <td></td>\n",
              "      <td></td>\n",
              "      <td>756</td>\n",
              "      <td>756</td>\n",
              "    </tr>\n",
              "    <tr>\n",
              "      <th>kitti</th>\n",
              "      <td>756</td>\n",
              "      <td>756</td>\n",
              "      <td>756</td>\n",
              "      <td>756</td>\n",
              "      <td>756</td>\n",
              "      <td>756</td>\n",
              "      <td>756</td>\n",
              "      <td>756</td>\n",
              "      <td></td>\n",
              "      <td></td>\n",
              "      <td></td>\n",
              "      <td></td>\n",
              "      <td></td>\n",
              "      <td></td>\n",
              "    </tr>\n",
              "    <tr>\n",
              "      <th>oxford_iiit_pet</th>\n",
              "      <td>756</td>\n",
              "      <td>756</td>\n",
              "      <td>756</td>\n",
              "      <td>756</td>\n",
              "      <td>756</td>\n",
              "      <td>756</td>\n",
              "      <td>756</td>\n",
              "      <td>756</td>\n",
              "      <td></td>\n",
              "      <td></td>\n",
              "      <td></td>\n",
              "      <td></td>\n",
              "      <td></td>\n",
              "      <td></td>\n",
              "    </tr>\n",
              "    <tr>\n",
              "      <th>resisc45</th>\n",
              "      <td></td>\n",
              "      <td></td>\n",
              "      <td></td>\n",
              "      <td></td>\n",
              "      <td>756</td>\n",
              "      <td>756</td>\n",
              "      <td>756</td>\n",
              "      <td>756</td>\n",
              "      <td>756</td>\n",
              "      <td>756</td>\n",
              "      <td>756</td>\n",
              "      <td>756</td>\n",
              "      <td></td>\n",
              "      <td></td>\n",
              "    </tr>\n",
              "    <tr>\n",
              "      <th rowspan=\"5\" valign=\"top\">384</th>\n",
              "      <th>cifar100</th>\n",
              "      <td></td>\n",
              "      <td></td>\n",
              "      <td></td>\n",
              "      <td></td>\n",
              "      <td>756</td>\n",
              "      <td>756</td>\n",
              "      <td>756</td>\n",
              "      <td>756</td>\n",
              "      <td>756</td>\n",
              "      <td>756</td>\n",
              "      <td>756</td>\n",
              "      <td>756</td>\n",
              "      <td></td>\n",
              "      <td></td>\n",
              "    </tr>\n",
              "    <tr>\n",
              "      <th>imagenet2012</th>\n",
              "      <td></td>\n",
              "      <td></td>\n",
              "      <td></td>\n",
              "      <td></td>\n",
              "      <td></td>\n",
              "      <td></td>\n",
              "      <td></td>\n",
              "      <td></td>\n",
              "      <td></td>\n",
              "      <td></td>\n",
              "      <td></td>\n",
              "      <td></td>\n",
              "      <td>756</td>\n",
              "      <td>755</td>\n",
              "    </tr>\n",
              "    <tr>\n",
              "      <th>kitti</th>\n",
              "      <td>756</td>\n",
              "      <td>756</td>\n",
              "      <td>756</td>\n",
              "      <td>756</td>\n",
              "      <td>756</td>\n",
              "      <td>756</td>\n",
              "      <td>756</td>\n",
              "      <td>756</td>\n",
              "      <td></td>\n",
              "      <td></td>\n",
              "      <td></td>\n",
              "      <td></td>\n",
              "      <td></td>\n",
              "      <td></td>\n",
              "    </tr>\n",
              "    <tr>\n",
              "      <th>oxford_iiit_pet</th>\n",
              "      <td>756</td>\n",
              "      <td>756</td>\n",
              "      <td>756</td>\n",
              "      <td>756</td>\n",
              "      <td>756</td>\n",
              "      <td>756</td>\n",
              "      <td>756</td>\n",
              "      <td>756</td>\n",
              "      <td></td>\n",
              "      <td></td>\n",
              "      <td></td>\n",
              "      <td></td>\n",
              "      <td></td>\n",
              "      <td></td>\n",
              "    </tr>\n",
              "    <tr>\n",
              "      <th>resisc45</th>\n",
              "      <td></td>\n",
              "      <td></td>\n",
              "      <td></td>\n",
              "      <td></td>\n",
              "      <td>756</td>\n",
              "      <td>756</td>\n",
              "      <td>756</td>\n",
              "      <td>756</td>\n",
              "      <td>756</td>\n",
              "      <td>756</td>\n",
              "      <td>756</td>\n",
              "      <td>756</td>\n",
              "      <td></td>\n",
              "      <td></td>\n",
              "    </tr>\n",
              "  </tbody>\n",
              "</table>\n",
              "</div>"
            ],
            "text/plain": [
              "adapt_steps                      500                ... 10000 20000      \n",
              "adapt_lr                         0.001 0.003 0.010  ... 0.030 0.010 0.030\n",
              "adapt_resolution adapt_ds                           ...                  \n",
              "224              cifar100                           ...   756            \n",
              "                 imagenet2012                       ...         756   756\n",
              "                 kitti             756   756   756  ...                  \n",
              "                 oxford_iiit_pet   756   756   756  ...                  \n",
              "                 resisc45                           ...   756            \n",
              "384              cifar100                           ...   756            \n",
              "                 imagenet2012                       ...         756   755\n",
              "                 kitti             756   756   756  ...                  \n",
              "                 oxford_iiit_pet   756   756   756  ...                  \n",
              "                 resisc45                           ...   756            \n",
              "\n",
              "[10 rows x 14 columns]"
            ]
          },
          "metadata": {
            "tags": []
          },
          "execution_count": 12
        }
      ]
    },
    {
      "cell_type": "code",
      "metadata": {
        "colab": {
          "base_uri": "https://localhost:8080/"
        },
        "id": "8Gbt7cdhEHg7",
        "outputId": "acc8a735-df32-44ed-e606-f54e10b1cccc"
      },
      "source": [
        "# Let's first select the \"best checkpoint\" for every model. We show in the\n",
        "# paper (section 4.5) that one can get a good performance by simply choosing the\n",
        "# best model by final pre-train validation accuracy (\"final-val\" column).\n",
        "# Pre-training with imagenet21k 300 epochs (ds==\"i21k\") gives the best\n",
        "# performance in almost all cases (figure 6, table 5).\n",
        "best_filenames = set(\n",
        "    df.query('ds==\"i21k\"')\n",
        "    .groupby('name')\n",
        "    .apply(lambda df: df.sort_values('final_val').iloc[-1])\n",
        "    .filename\n",
        ")\n",
        "\n",
        "# Select all finetunes from these models.\n",
        "best_df = df.loc[df.filename.apply(lambda filename: filename in best_filenames)]\n",
        "\n",
        "# Note: 9 * 68 == 612\n",
        "len(best_filenames), len(best_df)"
      ],
      "execution_count": 13,
      "outputs": [
        {
          "output_type": "execute_result",
          "data": {
            "text/plain": [
              "(9, 612)"
            ]
          },
          "metadata": {
            "tags": []
          },
          "execution_count": 13
        }
      ]
    },
    {
      "cell_type": "code",
      "metadata": {
        "colab": {
          "base_uri": "https://localhost:8080/",
          "height": 388
        },
        "id": "iPYUh4V1EdHg",
        "outputId": "9733463d-f503-4714-aa39-2f8320b5b214"
      },
      "source": [
        "# Visualize the 2 (resolution) * 9 (models) * 8 (lr, steps) finetunings for a\n",
        "# single dataset (Pets37).\n",
        "# Note how larger models get better scores up to B/16 @384 even on this tiny\n",
        "# dataset, if pre-trained sufficiently.\n",
        "sns.relplot(\n",
        "    data=best_df.query('adapt_ds==\"oxford_iiit_pet\"'),\n",
        "    x='infer_samples_per_sec',\n",
        "    y='adapt_final_val',\n",
        "    hue='name',\n",
        "    style='adapt_resolution'\n",
        ")\n",
        "plt.gca().set_xscale('log');"
      ],
      "execution_count": 14,
      "outputs": [
        {
          "output_type": "display_data",
          "data": {
            "image/png": "[encoded data removed]",
            "text/plain": [
              "<Figure size 459.375x360 with 1 Axes>"
            ]
          },
          "metadata": {
            "tags": [],
            "needs_background": "light"
          }
        }
      ]
    },
    {
      "cell_type": "code",
      "metadata": {
        "colab": {
          "base_uri": "https://localhost:8080/",
          "height": 545
        },
        "id": "9i7Y9AcpFtlr",
        "outputId": "67a29bcf-b660-4fc5-bbe7-15f250933c43"
      },
      "source": [
        "# More details for a single pre-trained checkpoint.\n",
        "best_df.query('name==\"R26+S/32\" and adapt_ds==\"oxford_iiit_pet\"')[[\n",
        "  col for col in best_df.columns if col.startswith('adapt_')\n",
        "]].sort_values('adapt_final_val')"
      ],
      "execution_count": 15,
      "outputs": [
        {
          "output_type": "execute_result",
          "data": {
            "text/html": [
              "<div>\n",
              "<style scoped>\n",
              "    .dataframe tbody tr th:only-of-type {\n",
              "        vertical-align: middle;\n",
              "    }\n",
              "\n",
              "    .dataframe tbody tr th {\n",
              "        vertical-align: top;\n",
              "    }\n",
              "\n",
              "    .dataframe thead th {\n",
              "        text-align: right;\n",
              "    }\n",
              "</style>\n",
              "<table border=\"1\" class=\"dataframe\">\n",
              "  <thead>\n",
              "    <tr style=\"text-align: right;\">\n",
              "      <th></th>\n",
              "      <th>adapt_ds</th>\n",
              "      <th>adapt_lr</th>\n",
              "      <th>adapt_steps</th>\n",
              "      <th>adapt_resolution</th>\n",
              "      <th>adapt_final_val</th>\n",
              "      <th>adapt_final_test</th>\n",
              "      <th>adapt_filename</th>\n",
              "    </tr>\n",
              "  </thead>\n",
              "  <tbody>\n",
              "    <tr>\n",
              "      <th>29020</th>\n",
              "      <td>oxford_iiit_pet</td>\n",
              "      <td>0.030</td>\n",
              "      <td>2500</td>\n",
              "      <td>224</td>\n",
              "      <td>0.894022</td>\n",
              "      <td>0.867539</td>\n",
              "      <td>R26_S_32-i21k-300ep-lr_0.001-aug_light1-wd_0.1-do_0.0-sd_0.0--oxford_iiit_pet-steps_2k-lr_0.03-res_224</td>\n",
              "    </tr>\n",
              "    <tr>\n",
              "      <th>31874</th>\n",
              "      <td>oxford_iiit_pet</td>\n",
              "      <td>0.030</td>\n",
              "      <td>2500</td>\n",
              "      <td>384</td>\n",
              "      <td>0.915761</td>\n",
              "      <td>0.894794</td>\n",
              "      <td>R26_S_32-i21k-300ep-lr_0.001-aug_light1-wd_0.1-do_0.0-sd_0.0--oxford_iiit_pet-steps_2k-lr_0.03-res_384</td>\n",
              "    </tr>\n",
              "    <tr>\n",
              "      <th>29024</th>\n",
              "      <td>oxford_iiit_pet</td>\n",
              "      <td>0.030</td>\n",
              "      <td>500</td>\n",
              "      <td>224</td>\n",
              "      <td>0.932065</td>\n",
              "      <td>0.916326</td>\n",
              "      <td>R26_S_32-i21k-300ep-lr_0.001-aug_light1-wd_0.1-do_0.0-sd_0.0--oxford_iiit_pet-steps_0k-lr_0.03-res_224</td>\n",
              "    </tr>\n",
              "    <tr>\n",
              "      <th>29021</th>\n",
              "      <td>oxford_iiit_pet</td>\n",
              "      <td>0.010</td>\n",
              "      <td>2500</td>\n",
              "      <td>224</td>\n",
              "      <td>0.934783</td>\n",
              "      <td>0.908694</td>\n",
              "      <td>R26_S_32-i21k-300ep-lr_0.001-aug_light1-wd_0.1-do_0.0-sd_0.0--oxford_iiit_pet-steps_2k-lr_0.01-res_224</td>\n",
              "    </tr>\n",
              "    <tr>\n",
              "      <th>29022</th>\n",
              "      <td>oxford_iiit_pet</td>\n",
              "      <td>0.003</td>\n",
              "      <td>2500</td>\n",
              "      <td>224</td>\n",
              "      <td>0.945652</td>\n",
              "      <td>0.926410</td>\n",
              "      <td>R26_S_32-i21k-300ep-lr_0.001-aug_light1-wd_0.1-do_0.0-sd_0.0--oxford_iiit_pet-steps_2k-lr_0.003-res_224</td>\n",
              "    </tr>\n",
              "    <tr>\n",
              "      <th>31875</th>\n",
              "      <td>oxford_iiit_pet</td>\n",
              "      <td>0.010</td>\n",
              "      <td>2500</td>\n",
              "      <td>384</td>\n",
              "      <td>0.945652</td>\n",
              "      <td>0.934315</td>\n",
              "      <td>R26_S_32-i21k-300ep-lr_0.001-aug_light1-wd_0.1-do_0.0-sd_0.0--oxford_iiit_pet-steps_2k-lr_0.01-res_384</td>\n",
              "    </tr>\n",
              "    <tr>\n",
              "      <th>29025</th>\n",
              "      <td>oxford_iiit_pet</td>\n",
              "      <td>0.010</td>\n",
              "      <td>500</td>\n",
              "      <td>224</td>\n",
              "      <td>0.951087</td>\n",
              "      <td>0.928046</td>\n",
              "      <td>R26_S_32-i21k-300ep-lr_0.001-aug_light1-wd_0.1-do_0.0-sd_0.0--oxford_iiit_pet-steps_0k-lr_0.01-res_224</td>\n",
              "    </tr>\n",
              "    <tr>\n",
              "      <th>31878</th>\n",
              "      <td>oxford_iiit_pet</td>\n",
              "      <td>0.030</td>\n",
              "      <td>500</td>\n",
              "      <td>384</td>\n",
              "      <td>0.953804</td>\n",
              "      <td>0.941128</td>\n",
              "      <td>R26_S_32-i21k-300ep-lr_0.001-aug_light1-wd_0.1-do_0.0-sd_0.0--oxford_iiit_pet-steps_0k-lr_0.03-res_384</td>\n",
              "    </tr>\n",
              "    <tr>\n",
              "      <th>29023</th>\n",
              "      <td>oxford_iiit_pet</td>\n",
              "      <td>0.001</td>\n",
              "      <td>2500</td>\n",
              "      <td>224</td>\n",
              "      <td>0.959239</td>\n",
              "      <td>0.931044</td>\n",
              "      <td>R26_S_32-i21k-300ep-lr_0.001-aug_light1-wd_0.1-do_0.0-sd_0.0--oxford_iiit_pet-steps_2k-lr_0.001-res_224</td>\n",
              "    </tr>\n",
              "    <tr>\n",
              "      <th>29027</th>\n",
              "      <td>oxford_iiit_pet</td>\n",
              "      <td>0.001</td>\n",
              "      <td>500</td>\n",
              "      <td>224</td>\n",
              "      <td>0.959239</td>\n",
              "      <td>0.923412</td>\n",
              "      <td>R26_S_32-i21k-300ep-lr_0.001-aug_light1-wd_0.1-do_0.0-sd_0.0--oxford_iiit_pet-steps_0k-lr_0.001-res_224</td>\n",
              "    </tr>\n",
              "    <tr>\n",
              "      <th>31876</th>\n",
              "      <td>oxford_iiit_pet</td>\n",
              "      <td>0.003</td>\n",
              "      <td>2500</td>\n",
              "      <td>384</td>\n",
              "      <td>0.961957</td>\n",
              "      <td>0.941401</td>\n",
              "      <td>R26_S_32-i21k-300ep-lr_0.001-aug_light1-wd_0.1-do_0.0-sd_0.0--oxford_iiit_pet-steps_2k-lr_0.003-res_384</td>\n",
              "    </tr>\n",
              "    <tr>\n",
              "      <th>31877</th>\n",
              "      <td>oxford_iiit_pet</td>\n",
              "      <td>0.001</td>\n",
              "      <td>2500</td>\n",
              "      <td>384</td>\n",
              "      <td>0.961957</td>\n",
              "      <td>0.944672</td>\n",
              "      <td>R26_S_32-i21k-300ep-lr_0.001-aug_light1-wd_0.1-do_0.0-sd_0.0--oxford_iiit_pet-steps_2k-lr_0.001-res_384</td>\n",
              "    </tr>\n",
              "    <tr>\n",
              "      <th>31879</th>\n",
              "      <td>oxford_iiit_pet</td>\n",
              "      <td>0.010</td>\n",
              "      <td>500</td>\n",
              "      <td>384</td>\n",
              "      <td>0.961957</td>\n",
              "      <td>0.946852</td>\n",
              "      <td>R26_S_32-i21k-300ep-lr_0.001-aug_light1-wd_0.1-do_0.0-sd_0.0--oxford_iiit_pet-steps_0k-lr_0.01-res_384</td>\n",
              "    </tr>\n",
              "    <tr>\n",
              "      <th>31881</th>\n",
              "      <td>oxford_iiit_pet</td>\n",
              "      <td>0.001</td>\n",
              "      <td>500</td>\n",
              "      <td>384</td>\n",
              "      <td>0.964674</td>\n",
              "      <td>0.930499</td>\n",
              "      <td>R26_S_32-i21k-300ep-lr_0.001-aug_light1-wd_0.1-do_0.0-sd_0.0--oxford_iiit_pet-steps_0k-lr_0.001-res_384</td>\n",
              "    </tr>\n",
              "    <tr>\n",
              "      <th>29026</th>\n",
              "      <td>oxford_iiit_pet</td>\n",
              "      <td>0.003</td>\n",
              "      <td>500</td>\n",
              "      <td>224</td>\n",
              "      <td>0.967391</td>\n",
              "      <td>0.931589</td>\n",
              "      <td>R26_S_32-i21k-300ep-lr_0.001-aug_light1-wd_0.1-do_0.0-sd_0.0--oxford_iiit_pet-steps_0k-lr_0.003-res_224</td>\n",
              "    </tr>\n",
              "    <tr>\n",
              "      <th>31880</th>\n",
              "      <td>oxford_iiit_pet</td>\n",
              "      <td>0.003</td>\n",
              "      <td>500</td>\n",
              "      <td>384</td>\n",
              "      <td>0.967391</td>\n",
              "      <td>0.941946</td>\n",
              "      <td>R26_S_32-i21k-300ep-lr_0.001-aug_light1-wd_0.1-do_0.0-sd_0.0--oxford_iiit_pet-steps_0k-lr_0.003-res_384</td>\n",
              "    </tr>\n",
              "  </tbody>\n",
              "</table>\n",
              "</div>"
            ],
            "text/plain": [
              "              adapt_ds  ...                                                                                           adapt_filename\n",
              "29020  oxford_iiit_pet  ...   R26_S_32-i21k-300ep-lr_0.001-aug_light1-wd_0.1-do_0.0-sd_0.0--oxford_iiit_pet-steps_2k-lr_0.03-res_224\n",
              "31874  oxford_iiit_pet  ...   R26_S_32-i21k-300ep-lr_0.001-aug_light1-wd_0.1-do_0.0-sd_0.0--oxford_iiit_pet-steps_2k-lr_0.03-res_384\n",
              "29024  oxford_iiit_pet  ...   R26_S_32-i21k-300ep-lr_0.001-aug_light1-wd_0.1-do_0.0-sd_0.0--oxford_iiit_pet-steps_0k-lr_0.03-res_224\n",
              "29021  oxford_iiit_pet  ...   R26_S_32-i21k-300ep-lr_0.001-aug_light1-wd_0.1-do_0.0-sd_0.0--oxford_iiit_pet-steps_2k-lr_0.01-res_224\n",
              "29022  oxford_iiit_pet  ...  R26_S_32-i21k-300ep-lr_0.001-aug_light1-wd_0.1-do_0.0-sd_0.0--oxford_iiit_pet-steps_2k-lr_0.003-res_224\n",
              "31875  oxford_iiit_pet  ...   R26_S_32-i21k-300ep-lr_0.001-aug_light1-wd_0.1-do_0.0-sd_0.0--oxford_iiit_pet-steps_2k-lr_0.01-res_384\n",
              "29025  oxford_iiit_pet  ...   R26_S_32-i21k-300ep-lr_0.001-aug_light1-wd_0.1-do_0.0-sd_0.0--oxford_iiit_pet-steps_0k-lr_0.01-res_224\n",
              "31878  oxford_iiit_pet  ...   R26_S_32-i21k-300ep-lr_0.001-aug_light1-wd_0.1-do_0.0-sd_0.0--oxford_iiit_pet-steps_0k-lr_0.03-res_384\n",
              "29023  oxford_iiit_pet  ...  R26_S_32-i21k-300ep-lr_0.001-aug_light1-wd_0.1-do_0.0-sd_0.0--oxford_iiit_pet-steps_2k-lr_0.001-res_224\n",
              "29027  oxford_iiit_pet  ...  R26_S_32-i21k-300ep-lr_0.001-aug_light1-wd_0.1-do_0.0-sd_0.0--oxford_iiit_pet-steps_0k-lr_0.001-res_224\n",
              "31876  oxford_iiit_pet  ...  R26_S_32-i21k-300ep-lr_0.001-aug_light1-wd_0.1-do_0.0-sd_0.0--oxford_iiit_pet-steps_2k-lr_0.003-res_384\n",
              "31877  oxford_iiit_pet  ...  R26_S_32-i21k-300ep-lr_0.001-aug_light1-wd_0.1-do_0.0-sd_0.0--oxford_iiit_pet-steps_2k-lr_0.001-res_384\n",
              "31879  oxford_iiit_pet  ...   R26_S_32-i21k-300ep-lr_0.001-aug_light1-wd_0.1-do_0.0-sd_0.0--oxford_iiit_pet-steps_0k-lr_0.01-res_384\n",
              "31881  oxford_iiit_pet  ...  R26_S_32-i21k-300ep-lr_0.001-aug_light1-wd_0.1-do_0.0-sd_0.0--oxford_iiit_pet-steps_0k-lr_0.001-res_384\n",
              "29026  oxford_iiit_pet  ...  R26_S_32-i21k-300ep-lr_0.001-aug_light1-wd_0.1-do_0.0-sd_0.0--oxford_iiit_pet-steps_0k-lr_0.003-res_224\n",
              "31880  oxford_iiit_pet  ...  R26_S_32-i21k-300ep-lr_0.001-aug_light1-wd_0.1-do_0.0-sd_0.0--oxford_iiit_pet-steps_0k-lr_0.003-res_384\n",
              "\n",
              "[16 rows x 7 columns]"
            ]
          },
          "metadata": {
            "tags": []
          },
          "execution_count": 15
        }
      ]
    },
    {
      "cell_type": "markdown",
      "metadata": {
        "id": "wh_SLkQtQ6K4"
      },
      "source": [
        "### Load a checkpoint"
      ]
    },
    {
      "cell_type": "code",
      "metadata": {
        "colab": {
          "base_uri": "https://localhost:8080/"
        },
        "id": "cwWBMJSpQ7EZ",
        "outputId": "fc2d6aa4-a4d1-4032-ca8a-5b98edb538b6"
      },
      "source": [
        "# Select a value from \"adapt_filename\" above that is a fine-tuned checkpoint.\n",
        "filename = 'R26_S_32-i21k-300ep-lr_0.001-aug_light1-wd_0.1-do_0.0-sd_0.0--oxford_iiit_pet-steps_0k-lr_0.003-res_384'\n",
        "\n",
        "tfds_name = filename.split('--')[1].split('-')[0]\n",
        "model_config = models_config.AUGREG_CONFIGS[filename.split('-')[0]]\n",
        "resolution = int(filename.split('_')[-1])\n",
        "path = f'gs://vit_models/augreg/{filename}.npz'\n",
        "\n",
        "print(f'{tf.io.gfile.stat(path).length / 1024 / 1024:.1f} MiB - {path}')"
      ],
      "execution_count": 16,
      "outputs": [
        {
          "output_type": "stream",
          "text": [
            "137.8 MiB - gs://vit_models/augreg/R26_S_32-i21k-300ep-lr_0.001-aug_light1-wd_0.1-do_0.0-sd_0.0--oxford_iiit_pet-steps_0k-lr_0.003-res_384.npz\n"
          ],
          "name": "stdout"
        }
      ]
    },
    {
      "cell_type": "code",
      "metadata": {
        "colab": {
          "base_uri": "https://localhost:8080/",
          "height": 1000,
          "referenced_widgets": [
            "91a51f837eaf4b83a2fb409890a9542c",
            "88b09c3a014a47e9a60ff3e401896446",
            "bbd29b70447840e88bd7441820ee0878",
            "cc51bccaedc84f059726260fe1375ef3",
            "5e0bc5d06afd40d0867638af5acc6bf2",
            "753a32875d96480b8328f175d7642529",
            "176268a696674e2e96d9baefa8642b03",
            "24f2c07e520f4d9da8fa9371d1522d03",
            "f9cc72ce2a5a4f97a19435fa8713bccd",
            "49ce0e8ce7e04eb185f627486ad403de",
            "19a94ccca2024890b9ac92bee3335032",
            "e1d7fc442cc7495fb15fb5ce6026daae",
            "71af18591033470c9b5d31dc178918e8",
            "5517b21fa49445b8a44681d5947d6bd2",
            "7b29f98b12974f85b53d90796b3e9fb2",
            "a08a2ce1c4d94c45b0b66299c0413209",
            "45f4575957534a7ea1f6dd39887776bb",
            "c69e0b7b77414633969829d5950aa48c",
            "55ce8599cf634fb59d048c2e502e8165",
            "520e21ac1725423dade7f1cf0f2f0614",
            "e478e28733b9426b9a1a98c5768e97a8",
            "4e8dcfa14a544a35836f5fa3c1bd732e",
            "b9737918892a401b9f92b0949e0ae36e",
            "43fcca0ccf7449c4bba242111a01c47e",
            "e6ca97447bdc4370865fd981f4669425",
            "32c400ebd5e9417b98188aca0918c944",
            "a27c8246f3cf41b2b06332ba972c8b24",
            "e2535c58436f49b392a2c2fddf053666",
            "6024141688084627a79aacf67c69f225",
            "6a4f606372a74bb6b94a822b78e5e859",
            "676ff262ea0e4a8ead1abc4223335d12",
            "3a8e5a0fb58048a091b0b8287bcc4f64",
            "4130a0574b464827a8dda14732572244",
            "09f1d4b1516741a68381429dccecca9c",
            "c2a83e1d44a24659b25c32660074d98c",
            "8d8267dfab9644b7bc998cef99ced21b",
            "491531e4fa214c138f9e2c90a3f08121",
            "7fd566becc12425882449ea4d20018a6",
            "cbcbb8aa947e489e9ae9aad0425a206d",
            "7b774f4847424a4f875cdc7d9efe7c24",
            "24a0b74a8dfb4e6d8c3ad11bc92a1a12",
            "21a6cd97f0ec4a21a3d4a835c1b8b518",
            "dab23dc9ae50429b82be666b5e613b55",
            "606a0cda764147f6adf8a81df0e21994",
            "ab30ae302db44cd8830f4c28e6d4264b",
            "4e6c3f21ade3410d8942c45c0652d74e",
            "6cb8ccca472d48fc9373db5a63fd98b8",
            "4e292119a2914ebb9c2ab0cc5f4d54b3",
            "0329c241a93c480ba66ffc57bb3ae772",
            "2af0f9ec4a00471fa413aaaba71a7f32",
            "829780546d77439e984d3c0801fa3aec",
            "bf1396ec9ba5444db0be2cc1c1828951",
            "a18317d29c1d476ca2bdecb8b14bb9f9",
            "de28ce1c6fe34fae8cc2c24aa6b277d7",
            "3aa4227fecec4ec2b00691b07087f669",
            "f66333552a6d47a89e39ef4f2ba75597"
          ]
        },
        "id": "MKW2flB_Sk1u",
        "outputId": "1ca11c3c-1f96-47f3-c0c3-38e78a84d328"
      },
      "source": [
        "# Fetch dataset that the checkpoint was finetuned on.\n",
        "# (Note that automatic download does not work with imagenet2012)\n",
        "ds, ds_info = tfds.load(tfds_name, with_info=True)\n",
        "ds_info"
      ],
      "execution_count": 17,
      "outputs": [
        {
          "output_type": "stream",
          "text": [
            "INFO:absl:Load pre-computed DatasetInfo (eg: splits, num examples,...) from GCS: oxford_iiit_pet/3.2.0\n",
            "INFO:absl:Load dataset info from /tmp/tmpf4y9e90ntfds\n",
            "INFO:absl:Generating dataset oxford_iiit_pet (/root/tensorflow_datasets/oxford_iiit_pet/3.2.0)\n"
          ],
          "name": "stderr"
        },
        {
          "output_type": "stream",
          "text": [
            "\u001b[1mDownloading and preparing dataset oxford_iiit_pet/3.2.0 (download: 773.52 MiB, generated: 774.69 MiB, total: 1.51 GiB) to /root/tensorflow_datasets/oxford_iiit_pet/3.2.0...\u001b[0m\n"
          ],
          "name": "stdout"
        },
        {
          "output_type": "display_data",
          "data": {
            "application/vnd.jupyter.widget-view+json": {
              "model_id": "91a51f837eaf4b83a2fb409890a9542c",
              "version_minor": 0,
              "version_major": 2
            },
            "text/plain": [
              "HBox(children=(FloatProgress(value=1.0, bar_style='info', description='Dl Completed...', max=1.0, style=Progre…"
            ]
          },
          "metadata": {
            "tags": []
          }
        },
        {
          "output_type": "display_data",
          "data": {
            "application/vnd.jupyter.widget-view+json": {
              "model_id": "f9cc72ce2a5a4f97a19435fa8713bccd",
              "version_minor": 0,
              "version_major": 2
            },
            "text/plain": [
              "HBox(children=(FloatProgress(value=1.0, bar_style='info', description='Dl Size...', max=1.0, style=ProgressSty…"
            ]
          },
          "metadata": {
            "tags": []
          }
        },
        {
          "output_type": "display_data",
          "data": {
            "application/vnd.jupyter.widget-view+json": {
              "model_id": "45f4575957534a7ea1f6dd39887776bb",
              "version_minor": 0,
              "version_major": 2
            },
            "text/plain": [
              "HBox(children=(FloatProgress(value=1.0, bar_style='info', description='Extraction completed...', max=1.0, styl…"
            ]
          },
          "metadata": {
            "tags": []
          }
        },
        {
          "output_type": "stream",
          "text": [
            "INFO:absl:Downloading http://www.robots.ox.ac.uk/~vgg/data/pets/data/annotations.tar.gz into /root/tensorflow_datasets/downloads/robots.ox.ac.uk_vgg_pets_annotationsL8B_bMDM0_iUhyDddl6Yu-1togBm2g5ZH8E6r80wOQo.tar.gz.tmp.636abf7de920417591d4106da56b7cf2...\n",
            "INFO:absl:Downloading http://www.robots.ox.ac.uk/~vgg/data/pets/data/images.tar.gz into /root/tensorflow_datasets/downloads/robots.ox.ac.uk_vgg_pets_imageswMR1o1DWRq_DHWToagdXedb7P88RHpceK3WqG77VVwU.tar.gz.tmp.f9cddec8942d4c068a583e3e4bee803d...\n",
            "INFO:absl:Generating split train\n"
          ],
          "name": "stderr"
        },
        {
          "output_type": "stream",
          "text": [
            "\n",
            "\n",
            "\n",
            "\n",
            "\n",
            "\n"
          ],
          "name": "stdout"
        },
        {
          "output_type": "display_data",
          "data": {
            "application/vnd.jupyter.widget-view+json": {
              "model_id": "e6ca97447bdc4370865fd981f4669425",
              "version_minor": 0,
              "version_major": 2
            },
            "text/plain": [
              "HBox(children=(FloatProgress(value=1.0, bar_style='info', max=1.0), HTML(value='')))"
            ]
          },
          "metadata": {
            "tags": []
          }
        },
        {
          "output_type": "stream",
          "text": [
            "\rShuffling and writing examples to /root/tensorflow_datasets/oxford_iiit_pet/3.2.0.incompleteDXC811/oxford_iiit_pet-train.tfrecord\n"
          ],
          "name": "stdout"
        },
        {
          "output_type": "display_data",
          "data": {
            "application/vnd.jupyter.widget-view+json": {
              "model_id": "4130a0574b464827a8dda14732572244",
              "version_minor": 0,
              "version_major": 2
            },
            "text/plain": [
              "HBox(children=(FloatProgress(value=0.0, max=3680.0), HTML(value='')))"
            ]
          },
          "metadata": {
            "tags": []
          }
        },
        {
          "output_type": "stream",
          "text": [
            "INFO:absl:Done writing /root/tensorflow_datasets/oxford_iiit_pet/3.2.0.incompleteDXC811/oxford_iiit_pet-train.tfrecord. Shard lengths: [920, 920, 920, 920]\n",
            "INFO:absl:Generating split test\n"
          ],
          "name": "stderr"
        },
        {
          "output_type": "stream",
          "text": [
            "\r"
          ],
          "name": "stdout"
        },
        {
          "output_type": "display_data",
          "data": {
            "application/vnd.jupyter.widget-view+json": {
              "model_id": "24a0b74a8dfb4e6d8c3ad11bc92a1a12",
              "version_minor": 0,
              "version_major": 2
            },
            "text/plain": [
              "HBox(children=(FloatProgress(value=1.0, bar_style='info', max=1.0), HTML(value='')))"
            ]
          },
          "metadata": {
            "tags": []
          }
        },
        {
          "output_type": "stream",
          "text": [
            "\rShuffling and writing examples to /root/tensorflow_datasets/oxford_iiit_pet/3.2.0.incompleteDXC811/oxford_iiit_pet-test.tfrecord\n"
          ],
          "name": "stdout"
        },
        {
          "output_type": "display_data",
          "data": {
            "application/vnd.jupyter.widget-view+json": {
              "model_id": "0329c241a93c480ba66ffc57bb3ae772",
              "version_minor": 0,
              "version_major": 2
            },
            "text/plain": [
              "HBox(children=(FloatProgress(value=0.0, max=3669.0), HTML(value='')))"
            ]
          },
          "metadata": {
            "tags": []
          }
        },
        {
          "output_type": "stream",
          "text": [
            "INFO:absl:Done writing /root/tensorflow_datasets/oxford_iiit_pet/3.2.0.incompleteDXC811/oxford_iiit_pet-test.tfrecord. Shard lengths: [917, 917, 918, 917]\n",
            "INFO:absl:Skipping computing stats for mode ComputeStatsMode.SKIP.\n",
            "INFO:absl:Constructing tf.data.Dataset for split None, from /root/tensorflow_datasets/oxford_iiit_pet/3.2.0\n"
          ],
          "name": "stderr"
        },
        {
          "output_type": "stream",
          "text": [
            "\r\u001b[1mDataset oxford_iiit_pet downloaded and prepared to /root/tensorflow_datasets/oxford_iiit_pet/3.2.0. Subsequent calls will reuse this data.\u001b[0m\n"
          ],
          "name": "stdout"
        },
        {
          "output_type": "execute_result",
          "data": {
            "text/plain": [
              "tfds.core.DatasetInfo(\n",
              "    name='oxford_iiit_pet',\n",
              "    version=3.2.0,\n",
              "    description='The Oxford-IIIT pet dataset is a 37 category pet image dataset with roughly 200\n",
              "images for each class. The images have large variations in scale, pose and\n",
              "lighting. All images have an associated ground truth annotation of breed.',\n",
              "    homepage='http://www.robots.ox.ac.uk/~vgg/data/pets/',\n",
              "    features=FeaturesDict({\n",
              "        'file_name': Text(shape=(), dtype=tf.string),\n",
              "        'image': Image(shape=(None, None, 3), dtype=tf.uint8),\n",
              "        'label': ClassLabel(shape=(), dtype=tf.int64, num_classes=37),\n",
              "        'segmentation_mask': Image(shape=(None, None, 1), dtype=tf.uint8),\n",
              "        'species': ClassLabel(shape=(), dtype=tf.int64, num_classes=2),\n",
              "    }),\n",
              "    total_num_examples=7349,\n",
              "    splits={\n",
              "        'test': 3669,\n",
              "        'train': 3680,\n",
              "    },\n",
              "    supervised_keys=('image', 'label'),\n",
              "    citation=\"\"\"@InProceedings{parkhi12a,\n",
              "      author       = \"Parkhi, O. M. and Vedaldi, A. and Zisserman, A. and Jawahar, C.~V.\",\n",
              "      title        = \"Cats and Dogs\",\n",
              "      booktitle    = \"IEEE Conference on Computer Vision and Pattern Recognition\",\n",
              "      year         = \"2012\",\n",
              "    }\"\"\",\n",
              "    redistribution_info=,\n",
              ")"
            ]
          },
          "metadata": {
            "tags": []
          },
          "execution_count": 17
        }
      ]
    },
    {
      "cell_type": "code",
      "metadata": {
        "id": "KtmV4tRCSX8n"
      },
      "source": [
        "# Get model instance - no weights are initialized yet.\n",
        "model = models.VisionTransformer(\n",
        "    num_classes=ds_info.features['label'].num_classes, **model_config)"
      ],
      "execution_count": 18,
      "outputs": []
    },
    {
      "cell_type": "code",
      "metadata": {
        "id": "GU6Tw1KvScBA"
      },
      "source": [
        "# Load a checkpoint from cloud - for large checkpoints this can take a while...\n",
        "params = checkpoint.load(path)"
      ],
      "execution_count": 19,
      "outputs": []
    },
    {
      "cell_type": "code",
      "metadata": {
        "id": "Js-QtAqeUJCo"
      },
      "source": [
        "# Get a single example from dataset for inference.\n",
        "d = next(iter(ds['test']))"
      ],
      "execution_count": 20,
      "outputs": []
    },
    {
      "cell_type": "code",
      "metadata": {
        "colab": {
          "base_uri": "https://localhost:8080/",
          "height": 269
        },
        "id": "xpovSMYFUHAj",
        "outputId": "83cea9f1-a864-4ba3-dc4e-c8c8a8dabaf6"
      },
      "source": [
        "def pp(img, sz):\n",
        "  \"\"\"Simple image preprocessing.\"\"\"\n",
        "  img = tf.cast(img, float) / 255.0\n",
        "  img = tf.image.resize(img, [sz, sz])\n",
        "  return img\n",
        "\n",
        "plt.imshow(pp(d['image'], resolution));"
      ],
      "execution_count": 21,
      "outputs": [
        {
          "output_type": "display_data",
          "data": {
            "image/png": "[encoded data removed]",
            "text/plain": [
              "<Figure size 432x288 with 1 Axes>"
            ]
          },
          "metadata": {
            "tags": [],
            "needs_background": "light"
          }
        }
      ]
    },
    {
      "cell_type": "code",
      "metadata": {
        "id": "dBgTdceOT9vz"
      },
      "source": [
        "# Inferance on batch with single example.\n",
        "logits, = model.apply({'params': params}, [pp(d['image'], resolution)], train=False)"
      ],
      "execution_count": 22,
      "outputs": []
    },
    {
      "cell_type": "code",
      "metadata": {
        "colab": {
          "base_uri": "https://localhost:8080/",
          "height": 382
        },
        "id": "QIQM--g4VwY9",
        "outputId": "ab18459c-677e-4f50-cf36-9de2d6e7d4df"
      },
      "source": [
        "# Plot logits (you can use tf.nn.softmax() to show probabilities instead).\n",
        "plt.figure(figsize=(10, 4))\n",
        "plt.bar(list(map(ds_info.features['label'].int2str, range(len(logits)))), logits)\n",
        "plt.xticks(rotation=90);"
      ],
      "execution_count": 23,
      "outputs": [
        {
          "output_type": "display_data",
          "data": {
            "image/png": "[encoded data removed]",
            "text/plain": [
              "<Figure size 720x288 with 1 Axes>"
            ]
          },
          "metadata": {
            "tags": [],
            "needs_background": "light"
          }
        }
      ]
    },
    {
      "cell_type": "markdown",
      "metadata": {
        "id": "1nMyWmDycpAo"
      },
      "source": [
        "#### Using `timm`\n",
        "\n",
        "If you know PyTorch, you're probably already familiar with `timm`.\n",
        "\n",
        "If not yet - it's your lucky day! Please check out their docs here:\n",
        "\n",
        "https://rwightman.github.io/pytorch-image-models/"
      ]
    },
    {
      "cell_type": "code",
      "metadata": {
        "colab": {
          "base_uri": "https://localhost:8080/"
        },
        "id": "yV6Sr1TdXUMp",
        "outputId": "ec7daf0a-7a1e-4a50-da0f-7590c139fadb"
      },
      "source": [
        "# Checkpoints can also be loaded directly into timm...\n",
        "!pip install git+https://github.com/rwightman/pytorch-image-models@cleanup_xla_model_fixes  # TODO\n",
        "import timm\n",
        "import torch"
      ],
      "execution_count": 24,
      "outputs": [
        {
          "output_type": "stream",
          "text": [
            "Collecting git+https://github.com/rwightman/pytorch-image-models@cleanup_xla_model_fixes\n",
            "  Cloning https://github.com/rwightman/pytorch-image-models (to revision cleanup_xla_model_fixes) to /tmp/pip-req-build-skwh4o02\n",
            "  Running command git clone -q https://github.com/rwightman/pytorch-image-models /tmp/pip-req-build-skwh4o02\n",
            "  Running command git checkout -b cleanup_xla_model_fixes --track origin/cleanup_xla_model_fixes\n",
            "  Switched to a new branch 'cleanup_xla_model_fixes'\n",
            "  Branch 'cleanup_xla_model_fixes' set up to track remote branch 'cleanup_xla_model_fixes' from 'origin'.\n",
            "Requirement already satisfied: torch>=1.4 in /usr/local/lib/python3.7/dist-packages (from timm==0.4.12) (1.9.0+cu102)\n",
            "Requirement already satisfied: torchvision in /usr/local/lib/python3.7/dist-packages (from timm==0.4.12) (0.10.0+cu102)\n",
            "Requirement already satisfied: typing-extensions in /usr/local/lib/python3.7/dist-packages (from torch>=1.4->timm==0.4.12) (3.7.4.3)\n",
            "Requirement already satisfied: pillow>=5.3.0 in /usr/local/lib/python3.7/dist-packages (from torchvision->timm==0.4.12) (7.1.2)\n",
            "Requirement already satisfied: numpy in /usr/local/lib/python3.7/dist-packages (from torchvision->timm==0.4.12) (1.19.5)\n",
            "Building wheels for collected packages: timm\n",
            "  Building wheel for timm (setup.py) ... \u001b[?25l\u001b[?25hdone\n",
            "  Created wheel for timm: filename=timm-0.4.12-cp37-none-any.whl size=375666 sha256=511e4c8177047396d2a2f30caf8479036ebf77990ab597b367c6adc1f5556ab5\n",
            "  Stored in directory: /tmp/pip-ephem-wheel-cache-gsm3jf_y/wheels/16/a8/cb/abf9f26c790de96e072e60aed01ecfe4d7f6ca8ef0b8c6b5e0\n",
            "Successfully built timm\n",
            "Installing collected packages: timm\n",
            "Successfully installed timm-0.4.12\n"
          ],
          "name": "stdout"
        }
      ]
    },
    {
      "cell_type": "code",
      "metadata": {
        "colab": {
          "base_uri": "https://localhost:8080/"
        },
        "id": "gwV4IvfYXioI",
        "outputId": "af9657f4-882c-47a4-a15d-0feafc7945bd"
      },
      "source": [
        "# For available model names, see here:\n",
        "# https://gist.github.com/rwightman/bce7c05f0b51f447fde90e07b453b7d9\n",
        "timm_model = timm.create_model(\n",
        "    'vit_small_r26_s32_384', num_classes=ds_info.features['label'].num_classes)\n",
        "\n",
        "# Non-default checkpoints need to be loaded from local files.\n",
        "if not tf.io.gfile.exists(f'{filename}.npz'):\n",
        "  tf.io.gfile.copy(f'gs://vit_models/augreg/{filename}.npz', f'{filename}.npz')\n",
        "timm.models.load_checkpoint(timm_model, f'{filename}.npz')"
      ],
      "execution_count": 25,
      "outputs": [
        {
          "output_type": "stream",
          "text": [
            "/usr/local/lib/python3.7/dist-packages/torch/nn/functional.py:718: UserWarning: Named tensors and all their associated APIs are an experimental feature and subject to change. Please do not use them for anything important until they are released as stable. (Triggered internally at  /pytorch/c10/core/TensorImpl.h:1156.)\n",
            "  return torch.max_pool2d(input, kernel_size, stride, padding, dilation, ceil_mode)\n"
          ],
          "name": "stderr"
        }
      ]
    },
    {
      "cell_type": "code",
      "metadata": {
        "id": "gd6NVWNLYOSI"
      },
      "source": [
        "def pp_torch(img, sz):\n",
        "  \"\"\"Simple image preprocessing for PyTorch.\"\"\"\n",
        "  img = pp(img, sz)\n",
        "  img = img.numpy().transpose([2, 0, 1])  # PyTorch expects NCHW format.\n",
        "  return torch.tensor(img[None])\n",
        "\n",
        "with torch.no_grad():\n",
        "  logits, = timm_model(pp_torch(d['image'], resolution)).detach().numpy()"
      ],
      "execution_count": 26,
      "outputs": []
    },
    {
      "cell_type": "code",
      "metadata": {
        "colab": {
          "base_uri": "https://localhost:8080/",
          "height": 382
        },
        "id": "vA-mEJofeHxd",
        "outputId": "8f893287-19c2-4afa-e955-73d248876500"
      },
      "source": [
        "# Same results as above (since we loaded the same checkpoint).\n",
        "plt.figure(figsize=(10, 4))\n",
        "plt.bar(list(map(ds_info.features['label'].int2str, range(len(logits)))), logits)\n",
        "plt.xticks(rotation=90);"
      ],
      "execution_count": 27,
      "outputs": [
        {
          "output_type": "display_data",
          "data": {
            "image/png": "[encoded data removed]",
            "text/plain": [
              "<Figure size 720x288 with 1 Axes>"
            ]
          },
          "metadata": {
            "tags": [],
            "needs_background": "light"
          }
        }
      ]
    },
    {
      "cell_type": "markdown",
      "metadata": {
        "id": "iAruT3YOxqB6"
      },
      "source": [
        "### Fine-tune\n",
        "\n",
        "You want to be connected to a TPU or GPU runtime for fine-tuning.\n",
        "\n",
        "Note that here we're just calling into the code. For more details see the\n",
        "annotated Colab\n",
        "\n",
        "https://colab.sandbox.google.com/github/google-research/vision_transformer/blob/linen/vit_jax.ipynb\n",
        "\n",
        "Also note that Colab GPUs and TPUs are not very powerful. To run this code on\n",
        "more powerful machines, see:\n",
        "\n",
        "https://github.com/google-research/vision_transformer/#running-on-cloud\n",
        "\n",
        "In particular, note that due to the Colab \"TPU Node\" setup, transfering data to\n",
        "the TPUs is realtively slow (for example the smallest `R+Ti/16` model trains\n",
        "faster on a single GPU than on 8 TPUs...)"
      ]
    },
    {
      "cell_type": "markdown",
      "metadata": {
        "id": "TiHEFXlBbZiV"
      },
      "source": [
        "#### TensorBoard"
      ]
    },
    {
      "cell_type": "code",
      "metadata": {
        "id": "Fu6uaCGDXLmr"
      },
      "source": [
        "# Launch tensorboard before training - maybe click \"reload\" during training.\n",
        "%load_ext tensorboard\n",
        "%tensorboard --logdir=./workdirs"
      ],
      "execution_count": null,
      "outputs": []
    },
    {
      "cell_type": "markdown",
      "metadata": {
        "id": "KYU9EdV2bWV7"
      },
      "source": [
        "#### From tfds"
      ]
    },
    {
      "cell_type": "code",
      "metadata": {
        "colab": {
          "base_uri": "https://localhost:8080/",
          "height": 35
        },
        "id": "Z1Ee2-GzZ9sl",
        "outputId": "810392ee-fa7a-4cd5-e61f-5ac171c06ead"
      },
      "source": [
        "# Create a new temporary workdir.\n",
        "workdir = f'./workdirs/{int(time.time())}'\n",
        "workdir"
      ],
      "execution_count": 29,
      "outputs": [
        {
          "output_type": "execute_result",
          "data": {
            "application/vnd.google.colaboratory.intrinsic+json": {
              "type": "string"
            },
            "text/plain": [
              "'./workdirs/1624211341'"
            ]
          },
          "metadata": {
            "tags": []
          },
          "execution_count": 29
        }
      ]
    },
    {
      "cell_type": "code",
      "metadata": {
        "id": "SB73ZFGCxsXo"
      },
      "source": [
        "# Get config for specified model.\n",
        "\n",
        "# Note that we can specify simply the model name (in which case the recommended\n",
        "# checkpoint for that model is taken), or it can be specified by its full\n",
        "# name.\n",
        "config = augreg_config.get_config('R_Ti_16')\n",
        "\n",
        "# A very small tfds dataset that only has a \"train\" split. We use this single\n",
        "# split both for training & evaluation by splitting it further into 90%/10%.\n",
        "config.dataset = 'tf_flowers'\n",
        "config.pp.train = 'train[:90%]'\n",
        "config.pp.test = 'train[90%:]'\n",
        "# tf_flowers only has 3670 images - so the 10% evaluation split will contain\n",
        "# 360 images. We specify batch_eval=120 so we evaluate on all but 7 of those\n",
        "# images (remainder is dropped).\n",
        "config.batch_eval = 120\n",
        "\n",
        "# Some more parameters that you will often want to set manually.\n",
        "# For example for VTAB we used steps={500, 2500} and lr={.001, .003, .01, .03}\n",
        "config.base_lr = 0.01\n",
        "config.shuffle_buffer = 1000\n",
        "config.total_steps = 100\n",
        "config.warmup_steps = 10\n",
        "config.accum_steps = 0  # Not needed with R+Ti/16 model.\n",
        "config.pp['crop'] = 224"
      ],
      "execution_count": 30,
      "outputs": []
    },
    {
      "cell_type": "code",
      "metadata": {
        "id": "ldKZFMnmYjY_",
        "colab": {
          "base_uri": "https://localhost:8080/",
          "height": 1000,
          "referenced_widgets": [
            "11d973962b4f4931b00879f97bf90c4d",
            "343f8eefbff64dd894b5f59ae00f3026",
            "2c1a338a150748dab5ebe649b3299277",
            "d64d35c0aee24d5493b9c5a4ac761b6b",
            "6fea24c0954848f0b8214b61ee70b92f",
            "bc746d01bc684e4a83d50e112222d867",
            "aabf13ebd27742cca6d64500cabdf3c9",
            "eee680c93f2d43a09fa159b089acb7c2"
          ]
        },
        "outputId": "b294318e-28be-4953-9c31-74d410934e13"
      },
      "source": [
        "# Call main training loop. See repository and above Colab for details.\n",
        "state = train.train_and_evaluate(config, workdir)"
      ],
      "execution_count": 31,
      "outputs": [
        {
          "output_type": "stream",
          "text": [
            "INFO:absl:Load pre-computed DatasetInfo (eg: splits, num examples,...) from GCS: tf_flowers/3.0.1\n",
            "INFO:absl:Load dataset info from /tmp/tmpmzavci8jtfds\n",
            "INFO:absl:Reading dataset from tfds \"tf_flowers\"\n",
            "INFO:absl:Load pre-computed DatasetInfo (eg: splits, num examples,...) from GCS: tf_flowers/3.0.1\n",
            "INFO:absl:Load dataset info from /tmp/tmpa3c3avh8tfds\n",
            "INFO:absl:Generating dataset tf_flowers (/root/tensorflow_datasets/tf_flowers/3.0.1)\n",
            "WARNING:absl:Dataset tf_flowers is hosted on GCS. It will automatically be downloaded to your\n",
            "local data directory. If you'd instead prefer to read directly from our public\n",
            "GCS bucket (recommended if you're running on GCP), you can instead pass\n",
            "`try_gcs=True` to `tfds.load` or set `data_dir=gs://tfds-data/datasets`.\n",
            "\n"
          ],
          "name": "stderr"
        },
        {
          "output_type": "stream",
          "text": [
            "\u001b[1mDownloading and preparing dataset tf_flowers/3.0.1 (download: 218.21 MiB, generated: 221.83 MiB, total: 440.05 MiB) to /root/tensorflow_datasets/tf_flowers/3.0.1...\u001b[0m\n"
          ],
          "name": "stdout"
        },
        {
          "output_type": "display_data",
          "data": {
            "application/vnd.jupyter.widget-view+json": {
              "model_id": "11d973962b4f4931b00879f97bf90c4d",
              "version_minor": 0,
              "version_major": 2
            },
            "text/plain": [
              "HBox(children=(FloatProgress(value=0.0, description='Dl Completed...', max=5.0, style=ProgressStyle(descriptio…"
            ]
          },
          "metadata": {
            "tags": []
          }
        },
        {
          "output_type": "stream",
          "text": [
            "INFO:absl:Load dataset info from /root/tensorflow_datasets/tf_flowers/3.0.1.incompleteSFPZSJ\n",
            "INFO:absl:Constructing tf.data.Dataset for split train[:90%], from /root/tensorflow_datasets/tf_flowers/3.0.1\n"
          ],
          "name": "stderr"
        },
        {
          "output_type": "stream",
          "text": [
            "\n",
            "\n",
            "\u001b[1mDataset tf_flowers downloaded and prepared to /root/tensorflow_datasets/tf_flowers/3.0.1. Subsequent calls will reuse this data.\u001b[0m\n"
          ],
          "name": "stdout"
        },
        {
          "output_type": "stream",
          "text": [
            "INFO:absl:Load dataset info from /root/tensorflow_datasets/tf_flowers/3.0.1\n",
            "INFO:absl:Load dataset info from /root/tensorflow_datasets/tf_flowers/3.0.1\n",
            "INFO:absl:Reusing dataset tf_flowers (/root/tensorflow_datasets/tf_flowers/3.0.1)\n",
            "INFO:absl:Constructing tf.data.Dataset for split train[90%:], from /root/tensorflow_datasets/tf_flowers/3.0.1\n",
            "INFO:absl:Load dataset info from /root/tensorflow_datasets/tf_flowers/3.0.1\n",
            "INFO:absl:<PrefetchDataset shapes: {image: (1, 512, 224, 224, 3), label: (1, 512, 5)}, types: {image: tf.float32, label: tf.float32}>\n",
            "INFO:absl:<PrefetchDataset shapes: {image: (1, 120, 224, 224, 3), label: (1, 120, 5)}, types: {image: tf.float32, label: tf.float32}>\n",
            "INFO:absl:Selected fillename=\"R_Ti_16-i21k-300ep-lr_0.001-aug_none-wd_0.03-do_0.0-sd_0.0\" for \"R_Ti_16\" with final_val=0.390\n",
            "INFO:absl:Found no checkpoint file at ./workdirs/1624211341\n",
            "INFO:absl:Will start/continue training at initial_step=1\n",
            "/usr/local/lib/python3.7/dist-packages/jax/lib/xla_bridge.py:317: UserWarning: jax.host_count has been renamed to jax.process_count. This alias will eventually be removed; please update your code.\n",
            "  \"jax.host_count has been renamed to jax.process_count. This alias \"\n",
            "/usr/local/lib/python3.7/dist-packages/jax/lib/xla_bridge.py:304: UserWarning: jax.host_id has been renamed to jax.process_index. This alias will eventually be removed; please update your code.\n",
            "  \"jax.host_id has been renamed to jax.process_index. This alias \"\n",
            "INFO:absl:Hyperparameters: {'accum_steps': 0, 'base_lr': 0.01, 'batch': 512, 'batch_eval': 120, 'checkpoint_every': 1000, 'dataset': 'tf_flowers', 'decay_type': 'cosine', 'eval_every': 100, 'grad_norm_clip': 1.0, 'model': {'classifier': 'token', 'hidden_size': 192, 'name': 'R+ViT-Ti_16', 'patches': {'size': (8, 8)}, 'representation_size': None, 'resnet': {'num_layers': (), 'width_factor': 1}, 'transformer': {'attention_dropout_rate': 0.0, 'dropout_rate': 0.0, 'mlp_dim': 768, 'num_heads': 3, 'num_layers': 12}}, 'model_or_filename': 'R_Ti_16', 'optim_dtype': 'bfloat16', 'pp': {'crop': 224, 'resize': 448, 'test': 'train[90%:]', 'train': 'train[:90%]'}, 'prefetch': 2, 'pretrained_dir': 'gs://vit_models/augreg', 'progress_every': 10, 'shuffle_buffer': 1000, 'tfds_data_dir': None, 'tfds_manual_dir': None, 'total_steps': 100, 'trainer': 'train', 'warmup_steps': 10}\n",
            "INFO:absl:Starting training loop; initial compile can take a while...\n",
            "/usr/local/lib/python3.7/dist-packages/jax/_src/profiler.py:167: UserWarning: StepTraceContext has been renamed to StepTraceAnnotation. This alias will eventually be removed; please update your code.\n",
            "  \"StepTraceContext has been renamed to StepTraceAnnotation. This alias \"\n",
            "INFO:absl:First step took 42.9 seconds.\n",
            "INFO:absl:[10] img_sec_core_train=466.710368, train_loss=0.511133\n",
            "INFO:absl:Step: 10/100 10.0%, img/sec/core: 466.7, ETA: 0.02h\n",
            "INFO:absl:Created artifact [10] Profile of type ArtifactType.URL and value None.\n",
            "INFO:absl:[20] img_sec_core_train=357.203885, train_loss=0.223424\n",
            "INFO:absl:Step: 20/100 20.0%, img/sec/core: 357.2, ETA: 0.03h\n",
            "INFO:absl:[30] img_sec_core_train=386.333538, train_loss=0.326099\n",
            "INFO:absl:Step: 30/100 30.0%, img/sec/core: 386.3, ETA: 0.02h\n",
            "INFO:absl:[40] img_sec_core_train=388.638165, train_loss=0.180850\n",
            "INFO:absl:Step: 40/100 40.0%, img/sec/core: 388.6, ETA: 0.02h\n",
            "INFO:absl:Setting work unit notes: 0.8 steps/s, 47.0% @47, ETA: 1 min\n",
            "INFO:absl:[47] steps_per_sec=0.765145\n",
            "INFO:absl:[50] img_sec_core_train=380.458370, train_loss=0.148657\n",
            "INFO:absl:Step: 50/100 50.0%, img/sec/core: 380.5, ETA: 0.02h\n",
            "INFO:absl:[60] img_sec_core_train=389.285111, train_loss=0.149584\n",
            "INFO:absl:Step: 60/100 60.0%, img/sec/core: 389.3, ETA: 0.01h\n",
            "INFO:absl:[70] img_sec_core_train=387.091673, train_loss=0.152747\n",
            "INFO:absl:Step: 70/100 70.0%, img/sec/core: 387.1, ETA: 0.01h\n",
            "INFO:absl:[80] img_sec_core_train=389.809457, train_loss=0.172273\n",
            "INFO:absl:Step: 80/100 80.0%, img/sec/core: 389.8, ETA: 0.01h\n",
            "INFO:absl:[90] img_sec_core_train=390.067051, train_loss=0.142331\n",
            "INFO:absl:Step: 90/100 90.0%, img/sec/core: 390.1, ETA: 0.00h\n",
            "INFO:absl:Setting work unit notes: 0.8 steps/s, 93.0% @93, ETA: 0 min\n",
            "INFO:absl:[93] steps_per_sec=0.759261\n",
            "INFO:absl:Setting work unit notes: 0.8 steps/s, 100.0% @100, ETA: 0 min\n",
            "INFO:absl:[100] steps_per_sec=0.760573\n",
            "INFO:absl:[100] img_sec_core_train=388.206384, train_loss=0.151794\n",
            "INFO:absl:Step: 100/100 100.0%, img/sec/core: 388.2, ETA: 0.00h\n",
            "INFO:absl:Step: 100 Learning rate: 0.0000000, Test accuracy: 0.96389, img/sec/core: 35.0\n",
            "INFO:absl:[100] accuracy_test=0.963888943195343, img_sec_core_test=34.951647, lr=0.000000\n",
            "INFO:absl:Saving checkpoint at step: 100\n",
            "INFO:absl:Saved checkpoint at workdirs/1624211341/checkpoint_100\n",
            "INFO:absl:Stored checkpoint at step 100 to \"workdirs/1624211341/checkpoint_100\"\n"
          ],
          "name": "stderr"
        },
        {
          "output_type": "stream",
          "text": [
            "workdirs/1624211341/checkpoint_100\n"
          ],
          "name": "stdout"
        }
      ]
    },
    {
      "cell_type": "markdown",
      "metadata": {
        "id": "JOtCfWFOfVFq"
      },
      "source": [
        "#### From JPG files\n",
        "\n",
        "The codebase supports training directly form JPG files on the local filesystem\n",
        "instead of `tfds` datasets. Note that the throughput is somewhat reduced, but\n",
        "that only is noticeable for very small models.\n",
        "\n",
        "The main advantage of `tfds` datasets is that they are versioned and available\n",
        "globally."
      ]
    },
    {
      "cell_type": "code",
      "metadata": {
        "id": "5VxlDlnxKAa3"
      },
      "source": [
        "base = '.'  # Store data on VM (ephemeral)."
      ],
      "execution_count": 32,
      "outputs": []
    },
    {
      "cell_type": "code",
      "metadata": {
        "id": "yr6JY8OBmKkj"
      },
      "source": [
        "# Uncomment below lines if you want to download & persist files in your Google\n",
        "# Drive instead. Note that Colab VMs are reset (i.e. files are deleted) after\n",
        "# some time of inactivity. Storing data to Google Drive guarantees that it is\n",
        "# still available next time you connect from a new VM.\n",
        "\n",
        "# Note that this is significantly slower than reading from the VMs locally\n",
        "# attached file system!\n",
        "\n",
        "# from google.colab import drive\n",
        "# drive.mount('/gdrive')\n",
        "# base = '/gdrive/My Drive/vision_transformer_images'"
      ],
      "execution_count": 33,
      "outputs": []
    },
    {
      "cell_type": "code",
      "metadata": {
        "colab": {
          "base_uri": "https://localhost:8080/"
        },
        "id": "VZJdKYv3mLqd",
        "outputId": "70d058d9-e919-4c09-f28b-c65b2c3346fc"
      },
      "source": [
        "# Download some dataset & unzip.\n",
        "! rm -rf '$base/flower_photos'; mkdir -p '$base'\n",
        "! (cd '$base' && curl https://storage.googleapis.com/download.tensorflow.org/example_images/flower_photos.tgz | tar xz)"
      ],
      "execution_count": 34,
      "outputs": [
        {
          "output_type": "stream",
          "text": [
            "  % Total    % Received % Xferd  Average Speed   Time    Time     Time  Current\n",
            "                                 Dload  Upload   Total   Spent    Left  Speed\n",
            "100  218M  100  218M    0     0  75.0M      0  0:00:02  0:00:02 --:--:-- 75.0M\n"
          ],
          "name": "stdout"
        }
      ]
    },
    {
      "cell_type": "code",
      "metadata": {
        "colab": {
          "base_uri": "https://localhost:8080/"
        },
        "id": "0QRnYHLzmPxL",
        "outputId": "fadc1844-eb1c-4b6b-f862-ff1052eee3d2"
      },
      "source": [
        "# Since the default file format of above \"tf_flowers\" dataset is\n",
        "# flower_photos/{class_name}/{filename}.jpg\n",
        "# we first need to split it into a \"train\" (90%) and a \"test\" (10%) set:\n",
        "# flower_photos/train/{class_name}/{filename}.jpg\n",
        "# flower_photos/test/{class_name}/{filename}.jpg\n",
        "\n",
        "def split(base_dir, test_ratio=0.1):\n",
        "  paths = glob.glob(f'{base_dir}/*/*.jpg')\n",
        "  random.shuffle(paths)\n",
        "  counts = dict(test=0, train=0)\n",
        "  for i, path in enumerate(paths):\n",
        "    split = 'test' if i < test_ratio * len(paths) else 'train'\n",
        "    *_, class_name, basename = path.split('/')\n",
        "    dst = f'{base_dir}/{split}/{class_name}/{basename}'\n",
        "    if not os.path.isdir(os.path.dirname(dst)):\n",
        "      os.makedirs(os.path.dirname(dst))\n",
        "    shutil.move(path, dst)\n",
        "    counts[split] += 1\n",
        "  print(f'Moved {counts[\"train\"]:,} train and {counts[\"test\"]:,} test images.')\n",
        "\n",
        "split(f'{base}/flower_photos')"
      ],
      "execution_count": 35,
      "outputs": [
        {
          "output_type": "stream",
          "text": [
            "Moved 3,303 train and 367 test images.\n"
          ],
          "name": "stdout"
        }
      ]
    },
    {
      "cell_type": "code",
      "metadata": {
        "colab": {
          "base_uri": "https://localhost:8080/",
          "height": 35
        },
        "id": "1DKwlCXTKJjJ",
        "outputId": "a188bc1f-4822-4c70-a168-4e373c1749bd"
      },
      "source": [
        "# Create a new temporary workdir.\n",
        "workdir = f'./workdirs/{int(time.time())}'\n",
        "workdir"
      ],
      "execution_count": 36,
      "outputs": [
        {
          "output_type": "execute_result",
          "data": {
            "application/vnd.google.colaboratory.intrinsic+json": {
              "type": "string"
            },
            "text/plain": [
              "'./workdirs/1624211640'"
            ]
          },
          "metadata": {
            "tags": []
          },
          "execution_count": 36
        }
      ]
    },
    {
      "cell_type": "code",
      "metadata": {
        "id": "N2ojstZeKJjK"
      },
      "source": [
        "# Read data from directory containing files.\n",
        "# (See cell above for more config settings)\n",
        "config.dataset = f'{base}/flower_photos'"
      ],
      "execution_count": 37,
      "outputs": []
    },
    {
      "cell_type": "code",
      "metadata": {
        "id": "L8hljjZlKJjK",
        "colab": {
          "base_uri": "https://localhost:8080/"
        },
        "outputId": "ff48ea33-532e-4057-8b84-95254b3df3c3"
      },
      "source": [
        "# And fine-tune on images provided\n",
        "state = train.train_and_evaluate(config, workdir)"
      ],
      "execution_count": 38,
      "outputs": [
        {
          "output_type": "stream",
          "text": [
            "INFO:absl:Reading dataset from directories \"./flower_photos/train\" and \"./flower_photos/test\"\n",
            "INFO:absl:<PrefetchDataset shapes: {image: (1, 512, 224, 224, 3), label: (1, 512, 5)}, types: {image: tf.float32, label: tf.float32}>\n",
            "INFO:absl:<PrefetchDataset shapes: {image: (1, 120, 224, 224, 3), label: (1, 120, 5)}, types: {image: tf.float32, label: tf.float32}>\n",
            "INFO:absl:Selected fillename=\"R_Ti_16-i21k-300ep-lr_0.001-aug_none-wd_0.03-do_0.0-sd_0.0\" for \"R_Ti_16\" with final_val=0.390\n",
            "INFO:absl:Found no checkpoint file at ./workdirs/1624211640\n",
            "INFO:absl:Will start/continue training at initial_step=1\n",
            "/usr/local/lib/python3.7/dist-packages/jax/lib/xla_bridge.py:317: UserWarning: jax.host_count has been renamed to jax.process_count. This alias will eventually be removed; please update your code.\n",
            "  \"jax.host_count has been renamed to jax.process_count. This alias \"\n",
            "/usr/local/lib/python3.7/dist-packages/jax/lib/xla_bridge.py:304: UserWarning: jax.host_id has been renamed to jax.process_index. This alias will eventually be removed; please update your code.\n",
            "  \"jax.host_id has been renamed to jax.process_index. This alias \"\n",
            "INFO:absl:Hyperparameters: {'accum_steps': 0, 'base_lr': 0.01, 'batch': 512, 'batch_eval': 120, 'checkpoint_every': 1000, 'dataset': './flower_photos', 'decay_type': 'cosine', 'eval_every': 100, 'grad_norm_clip': 1.0, 'model': {'classifier': 'token', 'hidden_size': 192, 'name': 'R+ViT-Ti_16', 'patches': {'size': (8, 8)}, 'representation_size': None, 'resnet': {'num_layers': (), 'width_factor': 1}, 'transformer': {'attention_dropout_rate': 0.0, 'dropout_rate': 0.0, 'mlp_dim': 768, 'num_heads': 3, 'num_layers': 12}}, 'model_or_filename': 'R_Ti_16', 'optim_dtype': 'bfloat16', 'pp': {'crop': 224, 'resize': 448, 'test': 'train[90%:]', 'train': 'train[:90%]'}, 'prefetch': 2, 'pretrained_dir': 'gs://vit_models/augreg', 'progress_every': 10, 'shuffle_buffer': 1000, 'tfds_data_dir': None, 'tfds_manual_dir': None, 'total_steps': 100, 'trainer': 'train', 'warmup_steps': 10}\n",
            "INFO:absl:Starting training loop; initial compile can take a while...\n",
            "/usr/local/lib/python3.7/dist-packages/jax/_src/profiler.py:167: UserWarning: StepTraceContext has been renamed to StepTraceAnnotation. This alias will eventually be removed; please update your code.\n",
            "  \"StepTraceContext has been renamed to StepTraceAnnotation. This alias \"\n",
            "INFO:absl:First step took 28.0 seconds.\n",
            "INFO:absl:[10] img_sec_core_train=418.191336, train_loss=0.477655\n",
            "INFO:absl:Step: 10/100 10.0%, img/sec/core: 418.2, ETA: 0.03h\n",
            "INFO:absl:Created artifact [10] Profile of type ArtifactType.URL and value None.\n",
            "INFO:absl:[20] img_sec_core_train=260.642129, train_loss=0.274659\n",
            "INFO:absl:Step: 20/100 20.0%, img/sec/core: 260.6, ETA: 0.03h\n",
            "INFO:absl:[30] img_sec_core_train=365.629566, train_loss=0.257037\n",
            "INFO:absl:Step: 30/100 30.0%, img/sec/core: 365.6, ETA: 0.03h\n",
            "INFO:absl:[40] img_sec_core_train=364.668743, train_loss=0.265098\n",
            "INFO:absl:Step: 40/100 40.0%, img/sec/core: 364.7, ETA: 0.02h\n",
            "INFO:absl:Setting work unit notes: 0.7 steps/s, 41.0% @41, ETA: 1 min\n",
            "INFO:absl:[41] steps_per_sec=0.663873\n",
            "INFO:absl:[50] img_sec_core_train=363.331542, train_loss=0.179916\n",
            "INFO:absl:Step: 50/100 50.0%, img/sec/core: 363.3, ETA: 0.02h\n",
            "INFO:absl:[60] img_sec_core_train=357.023222, train_loss=0.196554\n",
            "INFO:absl:Step: 60/100 60.0%, img/sec/core: 357.0, ETA: 0.02h\n",
            "INFO:absl:[70] img_sec_core_train=366.326920, train_loss=0.136346\n",
            "INFO:absl:Step: 70/100 70.0%, img/sec/core: 366.3, ETA: 0.01h\n",
            "INFO:absl:[80] img_sec_core_train=361.154654, train_loss=0.176554\n",
            "INFO:absl:Step: 80/100 80.0%, img/sec/core: 361.2, ETA: 0.01h\n",
            "INFO:absl:Setting work unit notes: 0.7 steps/s, 84.0% @84, ETA: 0 min\n",
            "INFO:absl:[84] steps_per_sec=0.707890\n",
            "INFO:absl:[90] img_sec_core_train=360.946839, train_loss=0.158476\n",
            "INFO:absl:Step: 90/100 90.0%, img/sec/core: 360.9, ETA: 0.00h\n",
            "INFO:absl:Setting work unit notes: 0.7 steps/s, 100.0% @100, ETA: 0 min\n",
            "INFO:absl:[100] steps_per_sec=0.706841\n",
            "INFO:absl:[100] img_sec_core_train=361.623365, train_loss=0.128426\n",
            "INFO:absl:Step: 100/100 100.0%, img/sec/core: 361.6, ETA: 0.00h\n",
            "INFO:absl:Step: 100 Learning rate: 0.0000000, Test accuracy: 0.96111, img/sec/core: 47.4\n",
            "INFO:absl:[100] accuracy_test=0.9611111283302307, img_sec_core_test=47.409270, lr=0.000000\n",
            "INFO:absl:Saving checkpoint at step: 100\n",
            "INFO:absl:Saved checkpoint at workdirs/1624211640/checkpoint_100\n",
            "INFO:absl:Stored checkpoint at step 100 to \"workdirs/1624211640/checkpoint_100\"\n"
          ],
          "name": "stderr"
        },
        {
          "output_type": "stream",
          "text": [
            "workdirs/1624211640/checkpoint_100\n"
          ],
          "name": "stdout"
        }
      ]
    }
  ]
}
